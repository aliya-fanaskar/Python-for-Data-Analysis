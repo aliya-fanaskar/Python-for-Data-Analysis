{
 "cells": [
  {
   "cell_type": "markdown",
   "id": "3b7604b0-1962-4b11-9c65-dcbeb025544c",
   "metadata": {},
   "source": [
    "# All about **Strings** in Python"
   ]
  },
  {
   "attachments": {},
   "cell_type": "markdown",
   "id": "494a2c84-d469-4658-82e4-b79e54140ab6",
   "metadata": {},
   "source": [
    "---\n",
    "## Introduction and Basics\n",
    "A string is a sequence of characters. Anything entered inside quotes is considered a string in Python."
   ]
  },
  {
   "cell_type": "code",
   "execution_count": 1,
   "id": "03cd2435-1abc-405d-b431-b67b4aee49cc",
   "metadata": {},
   "outputs": [
    {
     "name": "stdout",
     "output_type": "stream",
     "text": [
      "Hi there! How are you doing?\n"
     ]
    }
   ],
   "source": [
    "print('Hi there! How are you doing?')"
   ]
  },
  {
   "cell_type": "code",
   "execution_count": 2,
   "id": "47b25149-3db4-4f1e-81ef-ee8bb85c87f5",
   "metadata": {},
   "outputs": [
    {
     "name": "stdout",
     "output_type": "stream",
     "text": [
      " This is a sample text stored in a variable\n"
     ]
    }
   ],
   "source": [
    "text = \" This is a sample text stored in a variable\"\n",
    "print(text)"
   ]
  },
  {
   "cell_type": "code",
   "execution_count": 3,
   "id": "cc2d3bf7-ab8f-4e40-a940-4ef9aa838918",
   "metadata": {},
   "outputs": [
    {
     "name": "stdout",
     "output_type": "stream",
     "text": [
      "Today's a new Day!\n"
     ]
    }
   ],
   "source": [
    "#to print quotes as output\n",
    "print(\"Today's a new Day!\")"
   ]
  },
  {
   "cell_type": "code",
   "execution_count": 4,
   "id": "a77a9c16-b763-47e3-a529-e74a6c074fae",
   "metadata": {},
   "outputs": [
    {
     "name": "stdout",
     "output_type": "stream",
     "text": [
      "Today's a new day\n"
     ]
    }
   ],
   "source": [
    "print('Today\\'s a new day')"
   ]
  },
  {
   "cell_type": "code",
   "execution_count": 5,
   "id": "fc39ec79-5b13-4c8e-bac4-c5e60c3ca0c5",
   "metadata": {},
   "outputs": [
    {
     "name": "stdout",
     "output_type": "stream",
     "text": [
      "click \"OK\"\n"
     ]
    }
   ],
   "source": [
    "print('click \"OK\"')"
   ]
  },
  {
   "cell_type": "code",
   "execution_count": 6,
   "id": "09294fcf-f8c4-49ee-97b8-1027b5fac207",
   "metadata": {},
   "outputs": [
    {
     "name": "stdout",
     "output_type": "stream",
     "text": [
      "Press \"Enter\"\n"
     ]
    }
   ],
   "source": [
    "print(\"Press \\\"Enter\\\"\")"
   ]
  },
  {
   "cell_type": "code",
   "execution_count": 7,
   "id": "67865f88-e554-411b-ab54-da9e5b91857e",
   "metadata": {},
   "outputs": [
    {
     "name": "stdout",
     "output_type": "stream",
     "text": [
      "text 1 text 2\n"
     ]
    }
   ],
   "source": [
    "t1 = 'text 1'\n",
    "t2 = \"text 2\"\n",
    "print (t1, t2)"
   ]
  },
  {
   "cell_type": "code",
   "execution_count": 8,
   "id": "6302e469-2b05-4ebf-9272-3e8538b60965",
   "metadata": {},
   "outputs": [
    {
     "name": "stdout",
     "output_type": "stream",
     "text": [
      "text 1text 2\n"
     ]
    }
   ],
   "source": [
    "print(t1 + t2)"
   ]
  },
  {
   "cell_type": "code",
   "execution_count": 9,
   "id": "75b80627-90b3-4a02-af10-62f51991eb04",
   "metadata": {},
   "outputs": [
    {
     "name": "stdout",
     "output_type": "stream",
     "text": [
      "text 1text 1text 1\n"
     ]
    }
   ],
   "source": [
    "print(t1 * 3)"
   ]
  },
  {
   "cell_type": "markdown",
   "id": "9aad4d06-1f4d-4f60-b4af-de47433c56bb",
   "metadata": {},
   "source": [
    "#### Multi-line Strings"
   ]
  },
  {
   "cell_type": "code",
   "execution_count": 10,
   "id": "939f2fe5-46c4-4daa-a6b3-4aaf0fe992e4",
   "metadata": {},
   "outputs": [
    {
     "name": "stdout",
     "output_type": "stream",
     "text": [
      " You can\n",
      "type a multi-line\n",
      "string like\n",
      "this using any quotation marks\n",
      "three times.\n"
     ]
    }
   ],
   "source": [
    "print(''' You can\n",
    "type a multi-line\n",
    "string like\n",
    "this using any quotation marks\n",
    "three times.''')"
   ]
  },
  {
   "cell_type": "markdown",
   "id": "d4ddff93-ee26-4e68-930d-322b67421b40",
   "metadata": {},
   "source": [
    "#### Escape Characters"
   ]
  },
  {
   "cell_type": "markdown",
   "id": "15b4d277-4f9b-4cab-baf1-1fde3dd6ded4",
   "metadata": {},
   "source": [
    "##### using \\n and \\t\n",
    "The \\n is used to go to new line and the \\t is used for creating tab space. These are called **Escape Characters**."
   ]
  },
  {
   "cell_type": "code",
   "execution_count": 11,
   "id": "61303aa9-0ac9-4a3f-885f-43508b5d423b",
   "metadata": {},
   "outputs": [
    {
     "name": "stdout",
     "output_type": "stream",
     "text": [
      "another way to type \n",
      " a multi-line statement \n",
      " is by this way\n"
     ]
    }
   ],
   "source": [
    "print(\"another way to type \\n a multi-line statement \\n is by this way\")"
   ]
  },
  {
   "cell_type": "code",
   "execution_count": 12,
   "id": "c4e32cdb-b16b-4204-ac63-7e4d74f32b69",
   "metadata": {},
   "outputs": [
    {
     "name": "stdout",
     "output_type": "stream",
     "text": [
      "testing \ttab space \toption here\n"
     ]
    }
   ],
   "source": [
    "print('testing \\ttab space \\toption here')"
   ]
  },
  {
   "attachments": {},
   "cell_type": "markdown",
   "id": "ee31cd6d-071f-48d8-8caf-15a0e8153e25",
   "metadata": {},
   "source": [
    "#### Printing Escape Characters\n",
    "To print escape characters, there are a number of ways"
   ]
  },
  {
   "cell_type": "code",
   "execution_count": 13,
   "id": "b170e89f-1061-4194-9d40-32818d2dfc44",
   "metadata": {},
   "outputs": [
    {
     "name": "stdout",
     "output_type": "stream",
     "text": [
      "This \n",
      "is a \tsample text\n"
     ]
    }
   ],
   "source": [
    "print(\"This \\nis a \\tsample text\")"
   ]
  },
  {
   "cell_type": "markdown",
   "id": "04199b11-796c-4216-b21f-b10df46379f4",
   "metadata": {},
   "source": [
    "**Using Raw Strings**"
   ]
  },
  {
   "cell_type": "code",
   "execution_count": 14,
   "id": "f6e00458-1043-4408-898e-5cd9baf9662d",
   "metadata": {},
   "outputs": [
    {
     "name": "stdout",
     "output_type": "stream",
     "text": [
      "This \\nis a \\tsample text\n"
     ]
    }
   ],
   "source": [
    "print(r\"This \\nis a \\tsample text\")"
   ]
  },
  {
   "cell_type": "markdown",
   "id": "98118b0c-cf9f-4bc9-b074-5a3df234adbf",
   "metadata": {},
   "source": [
    "**Using repr()**"
   ]
  },
  {
   "cell_type": "code",
   "execution_count": 15,
   "id": "b424da99-eafd-4ebf-b580-c6b909160152",
   "metadata": {},
   "outputs": [
    {
     "name": "stdout",
     "output_type": "stream",
     "text": [
      "'This \\nis a \\tsample text'\n"
     ]
    }
   ],
   "source": [
    "print(repr(\"This \\nis a \\tsample text\"))"
   ]
  },
  {
   "cell_type": "markdown",
   "id": "9d595544-d1af-4a85-a5c5-f9357604d856",
   "metadata": {},
   "source": [
    "**Using double backslashes**"
   ]
  },
  {
   "cell_type": "code",
   "execution_count": 16,
   "id": "9ab25076-cd09-4f51-b50a-5aeec1187ba7",
   "metadata": {},
   "outputs": [
    {
     "name": "stdout",
     "output_type": "stream",
     "text": [
      "This \\nis a \\tsample text\n"
     ]
    }
   ],
   "source": [
    "print(\"This \\\\nis a \\\\tsample text\")"
   ]
  },
  {
   "cell_type": "markdown",
   "id": "f0cfbb44-32f7-4157-9c4a-47c5da022bec",
   "metadata": {},
   "source": [
    "There many other ways to do this but for now this is enough...."
   ]
  },
  {
   "cell_type": "markdown",
   "id": "7f75dad3-e2b0-4b79-950e-81545e983d9a",
   "metadata": {},
   "source": [
    "#### end Parameter in Python `print`\n",
    "The ```end``` parameter in Python's built-in print() function controls what character or string is appended at the end of the printed output.\\\n",
    "By default, the end parameter is set to '\\n' (the newline character), which means that after each print() statement executes, a new line is automatically inserted, causing subsequent output to appear on the next line.\\\n",
    "You can customize this behavior by providing a different string value to the end parameter. This allows you to:\n",
    "- **Print on the same line:**\\\n",
    "Set end=' ' to add a space instead of a newline, keeping subsequent output on the same line.\n",
    "- **Add custom characters:**\\\n",
    "Use end='@' or any other string to append specific characters after the printed content.\n",
    "- **Print nothing at the end:**\\\n",
    "Set end='' to prevent any character from being added at the end of the line."
   ]
  },
  {
   "cell_type": "code",
   "execution_count": 17,
   "id": "bd9c74c6-97bf-4c40-b63c-565c43c87a7e",
   "metadata": {},
   "outputs": [
    {
     "name": "stdout",
     "output_type": "stream",
     "text": [
      "Hello World\n"
     ]
    }
   ],
   "source": [
    "# Ending with a space\n",
    "print(\"Hello\", end=' ')\n",
    "print(\"World\")"
   ]
  },
  {
   "cell_type": "code",
   "execution_count": 18,
   "id": "7659c220-92f7-4ec7-9c3e-754972a9eb01",
   "metadata": {},
   "outputs": [
    {
     "name": "stdout",
     "output_type": "stream",
     "text": [
      "Python***Programming\n"
     ]
    }
   ],
   "source": [
    "# Ending with a custom string\n",
    "print(\"Python\", end='***')\n",
    "print(\"Programming\")"
   ]
  },
  {
   "cell_type": "code",
   "execution_count": 19,
   "id": "1b13f432-38d4-4580-bbba-dbe0f6bd2b98",
   "metadata": {},
   "outputs": [
    {
     "name": "stdout",
     "output_type": "stream",
     "text": [
      "0, 1, 2, 3, 4, "
     ]
    }
   ],
   "source": [
    "for i in range(5):\n",
    "    print(i, end=\", \")   # this is a 'For loop' will get to it in further sections..."
   ]
  },
  {
   "cell_type": "markdown",
   "id": "0b685a51-bc82-48c3-bf5a-100c21d07a3d",
   "metadata": {},
   "source": [
    "#### sep Parameter in Python `print`\n",
    "The ```sep``` parameter within the print() function specifies the separator between the values being printed.\\\n",
    "By default, sep is set to a single space character (' '). \\\n",
    "This means that when you print multiple items, they will be separated by a space. "
   ]
  },
  {
   "cell_type": "code",
   "execution_count": 20,
   "id": "e71c0a7f-c4ab-4875-8620-06bdf773f4be",
   "metadata": {},
   "outputs": [
    {
     "name": "stdout",
     "output_type": "stream",
     "text": [
      "Hello World\n"
     ]
    }
   ],
   "source": [
    "# Default behavior (sep=' ' is implied)\n",
    "print(\"Hello\", \"World\")"
   ]
  },
  {
   "cell_type": "code",
   "execution_count": 21,
   "id": "602bdc39-61ff-4a02-8d3c-8ea68cf3ca30",
   "metadata": {},
   "outputs": [
    {
     "name": "stdout",
     "output_type": "stream",
     "text": [
      "apple-banana-cherry\n"
     ]
    }
   ],
   "source": [
    "# Using a custom separator: a dash\n",
    "print(\"apple\", \"banana\", \"cherry\", sep=\"-\")"
   ]
  },
  {
   "cell_type": "code",
   "execution_count": 22,
   "id": "0c157663-6b31-42dd-b2ac-bb282a5f2309",
   "metadata": {},
   "outputs": [
    {
     "name": "stdout",
     "output_type": "stream",
     "text": [
      "PAI\n"
     ]
    }
   ],
   "source": [
    "# Using an empty string as a separator (no space)\n",
    "print(\"P\", \"A\", \"I\", sep=\"\")"
   ]
  },
  {
   "cell_type": "code",
   "execution_count": 23,
   "id": "b56c23ff-c037-4011-b6ef-deb3129ab5f3",
   "metadata": {},
   "outputs": [
    {
     "name": "stdout",
     "output_type": "stream",
     "text": [
      "alex@gmail.com\n"
     ]
    }
   ],
   "source": [
    "# Using a more complex separator\n",
    "name = \"alex\"\n",
    "account = \"gmail.com\"\n",
    "print(name, account, sep='@')"
   ]
  },
  {
   "attachments": {},
   "cell_type": "markdown",
   "id": "e023fea1-7e32-47f8-9061-8a8f20d62532",
   "metadata": {},
   "source": [
    "---\n",
    "## String Comparison in Python\n",
    "Python supports several operators for string operators as follows:\\\n",
    "== check for Equality \\\n",
    "!= check for Inequality \\\n",
    "<, > , <=, >= perform lexicographical comparisons based on Alphabetical order"
   ]
  },
  {
   "cell_type": "code",
   "execution_count": 24,
   "id": "023a6be6-2da6-4f77-b993-934d04f4887e",
   "metadata": {},
   "outputs": [],
   "source": [
    "s1 = \"Python\"\n",
    "s2 = \"Python\"\n",
    "s3 = \"pyhton\"\n",
    "s4 = \"Java\""
   ]
  },
  {
   "cell_type": "code",
   "execution_count": 25,
   "id": "24e29078-903f-44d0-aa45-f921258dc626",
   "metadata": {},
   "outputs": [
    {
     "name": "stdout",
     "output_type": "stream",
     "text": [
      "True\n"
     ]
    }
   ],
   "source": [
    "print(s1 == s2)"
   ]
  },
  {
   "cell_type": "code",
   "execution_count": 26,
   "id": "534a24fc-ba7e-4d70-a3f7-619ef97399f6",
   "metadata": {},
   "outputs": [
    {
     "name": "stdout",
     "output_type": "stream",
     "text": [
      "False\n"
     ]
    }
   ],
   "source": [
    "print(s1 == s3)"
   ]
  },
  {
   "cell_type": "code",
   "execution_count": 27,
   "id": "132f80ab-d171-4bfe-8cb6-52d1216fda90",
   "metadata": {},
   "outputs": [
    {
     "name": "stdout",
     "output_type": "stream",
     "text": [
      "True\n"
     ]
    }
   ],
   "source": [
    "print(s1 != s4)"
   ]
  },
  {
   "cell_type": "code",
   "execution_count": 28,
   "id": "8f5f8fc6-66b2-4249-ba67-499db6f003ec",
   "metadata": {},
   "outputs": [
    {
     "name": "stdout",
     "output_type": "stream",
     "text": [
      "True\n"
     ]
    }
   ],
   "source": [
    "print(s2 != s3)"
   ]
  },
  {
   "cell_type": "markdown",
   "id": "efe0b116-e277-4357-9928-d0c2a0bed02f",
   "metadata": {},
   "source": [
    "#### Case-Insensitive Comparison"
   ]
  },
  {
   "cell_type": "code",
   "execution_count": 29,
   "id": "96455627-a7d0-4e3d-a9d9-787b024279cc",
   "metadata": {},
   "outputs": [
    {
     "name": "stdout",
     "output_type": "stream",
     "text": [
      "False\n"
     ]
    }
   ],
   "source": [
    "print(s2.lower() == s3.lower())"
   ]
  },
  {
   "cell_type": "markdown",
   "id": "80d21ecb-02ab-498f-bc72-d76e85b15c91",
   "metadata": {},
   "source": [
    "#### Lexicographical Comparison"
   ]
  },
  {
   "cell_type": "code",
   "execution_count": 30,
   "id": "7625cba2-6343-4eeb-90d8-56802a38ef45",
   "metadata": {},
   "outputs": [],
   "source": [
    "f1 = \"apple\"\n",
    "f2 = \"banana\"\n",
    "f3 = \"fig\""
   ]
  },
  {
   "cell_type": "code",
   "execution_count": 31,
   "id": "db2728d6-eff5-4329-970d-fadff96a299f",
   "metadata": {},
   "outputs": [
    {
     "name": "stdout",
     "output_type": "stream",
     "text": [
      "True\n"
     ]
    }
   ],
   "source": [
    "print(f1 < f2)"
   ]
  },
  {
   "cell_type": "code",
   "execution_count": 32,
   "id": "8f825dd6-75bc-436d-8433-805f141794da",
   "metadata": {},
   "outputs": [
    {
     "name": "stdout",
     "output_type": "stream",
     "text": [
      "True\n"
     ]
    }
   ],
   "source": [
    "print(f3 > f1)"
   ]
  },
  {
   "attachments": {},
   "cell_type": "markdown",
   "id": "6d050e5b-7acf-4e89-bd0a-af12cd4eb0cc",
   "metadata": {},
   "source": [
    "---\n",
    "## Python String Methods\n",
    "Some of the most commonly used String methods are as follows:"
   ]
  },
  {
   "cell_type": "markdown",
   "id": "b69a3143-298f-4a2c-866b-7b72667000b0",
   "metadata": {},
   "source": [
    "#### Case related String Methods\n",
    "**`lower` `upper` `title` `capitalize` `swapcase`**"
   ]
  },
  {
   "cell_type": "code",
   "execution_count": 33,
   "id": "d1c01365-1d86-48f3-a83e-2d8911ef05c1",
   "metadata": {},
   "outputs": [],
   "source": [
    "line = 'This is a Sample RANdom TexT.'"
   ]
  },
  {
   "cell_type": "code",
   "execution_count": 34,
   "id": "c1367c83-ebe3-4f1e-ae8f-75e90864a87b",
   "metadata": {},
   "outputs": [
    {
     "name": "stdout",
     "output_type": "stream",
     "text": [
      "This is a Sample RANdom TexT.\n"
     ]
    }
   ],
   "source": [
    "print(line)"
   ]
  },
  {
   "cell_type": "code",
   "execution_count": 35,
   "id": "98f272fa-9075-4a06-ab5a-a034d928b56f",
   "metadata": {},
   "outputs": [
    {
     "name": "stdout",
     "output_type": "stream",
     "text": [
      "this is a sample random text.\n"
     ]
    }
   ],
   "source": [
    "print(line.lower())"
   ]
  },
  {
   "cell_type": "code",
   "execution_count": 36,
   "id": "88d7f0f4-8978-4369-aca4-a784f4ae7d32",
   "metadata": {},
   "outputs": [
    {
     "name": "stdout",
     "output_type": "stream",
     "text": [
      "THIS IS A SAMPLE RANDOM TEXT.\n"
     ]
    }
   ],
   "source": [
    "print(line.upper())"
   ]
  },
  {
   "cell_type": "code",
   "execution_count": 37,
   "id": "94e6363d-ce61-4c3f-88bb-63e116abe8b5",
   "metadata": {},
   "outputs": [
    {
     "name": "stdout",
     "output_type": "stream",
     "text": [
      "This Is A Sample Random Text.\n"
     ]
    }
   ],
   "source": [
    "print(line.title())"
   ]
  },
  {
   "cell_type": "code",
   "execution_count": 38,
   "id": "bce1545f-2dcf-4745-956c-56e95e53068a",
   "metadata": {},
   "outputs": [
    {
     "name": "stdout",
     "output_type": "stream",
     "text": [
      "This is a sample random text.\n"
     ]
    }
   ],
   "source": [
    "print(line.capitalize())"
   ]
  },
  {
   "cell_type": "code",
   "execution_count": 39,
   "id": "9a5f9544-0ed2-4570-82b0-77d25d296efd",
   "metadata": {},
   "outputs": [
    {
     "name": "stdout",
     "output_type": "stream",
     "text": [
      "tHIS IS A sAMPLE ranDOM tEXt.\n"
     ]
    }
   ],
   "source": [
    "print(line.swapcase())"
   ]
  },
  {
   "cell_type": "markdown",
   "id": "80540819-69a9-45d6-a214-3e4d548bf325",
   "metadata": {},
   "source": [
    "#### More commonly used String Methods"
   ]
  },
  {
   "cell_type": "code",
   "execution_count": 40,
   "id": "fe6f7497-167f-43a7-9ab6-f1b8a450c606",
   "metadata": {},
   "outputs": [],
   "source": [
    "sent = '     This is another sample sentence to check functions on.   '"
   ]
  },
  {
   "cell_type": "code",
   "execution_count": 41,
   "id": "dbf982da-7c89-4819-b250-05d15b2a462a",
   "metadata": {},
   "outputs": [
    {
     "name": "stdout",
     "output_type": "stream",
     "text": [
      "     This is another sample sentence to check functions on.   \n"
     ]
    }
   ],
   "source": [
    "print(sent)"
   ]
  },
  {
   "cell_type": "markdown",
   "id": "86703192-72d8-4c95-9f68-48936bcafd6a",
   "metadata": {},
   "source": [
    "**`strip`**"
   ]
  },
  {
   "cell_type": "code",
   "execution_count": 42,
   "id": "d2f62bc4-f643-4eca-80a3-d5b29f339e2d",
   "metadata": {},
   "outputs": [],
   "source": [
    "newsent = sent.strip()"
   ]
  },
  {
   "cell_type": "code",
   "execution_count": 43,
   "id": "fe9d0a70-fa4a-4798-b6c3-ff18ac1fb1aa",
   "metadata": {},
   "outputs": [
    {
     "name": "stdout",
     "output_type": "stream",
     "text": [
      "This is another sample sentence to check functions on.\n"
     ]
    }
   ],
   "source": [
    "print(newsent)"
   ]
  },
  {
   "cell_type": "markdown",
   "id": "e6fe6133-e56d-4bb3-8883-b17cc0a45d8c",
   "metadata": {},
   "source": [
    "**`find`**"
   ]
  },
  {
   "cell_type": "code",
   "execution_count": 44,
   "id": "a61f6cb3-5e12-4c1a-b02e-d9e384148447",
   "metadata": {},
   "outputs": [
    {
     "name": "stdout",
     "output_type": "stream",
     "text": [
      "21\n",
      "16\n"
     ]
    }
   ],
   "source": [
    "print(sent.find('sample'))\n",
    "print(newsent.find('sample'))"
   ]
  },
  {
   "cell_type": "markdown",
   "id": "12471a6b-f850-4e88-aa4d-853eb6f93d3d",
   "metadata": {},
   "source": [
    "**`count`**"
   ]
  },
  {
   "cell_type": "code",
   "execution_count": 45,
   "id": "6b8e21e5-64d4-4b74-9ff8-b84de81b9c94",
   "metadata": {},
   "outputs": [
    {
     "name": "stdout",
     "output_type": "stream",
     "text": [
      "5\n",
      "6\n"
     ]
    }
   ],
   "source": [
    "print(newsent.count('s'))\n",
    "print(newsent.count('n'))"
   ]
  },
  {
   "cell_type": "markdown",
   "id": "6d51be5b-019a-4149-adee-ce8597dc424c",
   "metadata": {},
   "source": [
    "**`len`**"
   ]
  },
  {
   "cell_type": "code",
   "execution_count": 46,
   "id": "f072c496-b1bb-49be-b584-1918ed591d8b",
   "metadata": {},
   "outputs": [
    {
     "name": "stdout",
     "output_type": "stream",
     "text": [
      "62\n",
      "54\n"
     ]
    }
   ],
   "source": [
    "print(len(sent))\n",
    "print(len(newsent))"
   ]
  },
  {
   "cell_type": "markdown",
   "id": "9f7355c3-68ce-4c1e-b04c-9b42115bcc30",
   "metadata": {},
   "source": [
    "**`replace`**"
   ]
  },
  {
   "cell_type": "code",
   "execution_count": 47,
   "id": "d69c4dd1-9aab-47ce-8d2d-f7d1d13e4c54",
   "metadata": {},
   "outputs": [
    {
     "name": "stdout",
     "output_type": "stream",
     "text": [
      "This is another new sentence to check functions on.\n"
     ]
    }
   ],
   "source": [
    "print(newsent.replace('sample','new'))"
   ]
  },
  {
   "cell_type": "code",
   "execution_count": 48,
   "id": "55ae309a-d12e-4e37-88e0-e0e17564ea2f",
   "metadata": {},
   "outputs": [
    {
     "name": "stdout",
     "output_type": "stream",
     "text": [
      "7\n"
     ]
    }
   ],
   "source": [
    "print(newsent.replace('sample','new').count('n'))"
   ]
  },
  {
   "cell_type": "markdown",
   "id": "97567727-83f4-4386-b6cd-9488752126fc",
   "metadata": {},
   "source": [
    "**`split`**"
   ]
  },
  {
   "cell_type": "code",
   "execution_count": 49,
   "id": "925cb3a7-88a7-479f-a3d9-fb7adcd66123",
   "metadata": {},
   "outputs": [
    {
     "name": "stdout",
     "output_type": "stream",
     "text": [
      "['This', 'is', 'another', 'sample', 'sentence', 'to', 'check', 'functions', 'on.']\n"
     ]
    }
   ],
   "source": [
    "sent_list = newsent.split(' ')\n",
    "print(sent_list)"
   ]
  },
  {
   "cell_type": "markdown",
   "id": "2bcf3b01-40af-4f1c-b2ca-aea23b22ce99",
   "metadata": {},
   "source": [
    "**`join`**"
   ]
  },
  {
   "cell_type": "code",
   "execution_count": 50,
   "id": "155d20fa-5864-4e5c-a581-fdacc2e21c04",
   "metadata": {},
   "outputs": [],
   "source": [
    "j1_sent = ' '.join(sent_list)\n",
    "j2_sent = '-'.join(sent_list)\n",
    "j3_sent = '|'.join(sent_list)\n",
    "j4_sent = '_|_'.join(sent_list)"
   ]
  },
  {
   "cell_type": "code",
   "execution_count": 51,
   "id": "a3e6541a-13b2-439d-a681-df872d03d32d",
   "metadata": {},
   "outputs": [
    {
     "name": "stdout",
     "output_type": "stream",
     "text": [
      "This is another sample sentence to check functions on. \n",
      "\n",
      "This-is-another-sample-sentence-to-check-functions-on. \n",
      "\n",
      "This|is|another|sample|sentence|to|check|functions|on. \n",
      "\n",
      "This_|_is_|_another_|_sample_|_sentence_|_to_|_check_|_functions_|_on. \n",
      "\n"
     ]
    }
   ],
   "source": [
    "print(j1_sent, '\\n')\n",
    "print(j2_sent, '\\n')\n",
    "print(j3_sent, '\\n')\n",
    "print(j4_sent, '\\n')"
   ]
  },
  {
   "cell_type": "markdown",
   "id": "d506fb41-8513-42be-83a1-8b154c9a2280",
   "metadata": {},
   "source": [
    "---\n",
    "## Indexing & Slicing Strings in Python"
   ]
  },
  {
   "cell_type": "code",
   "execution_count": 52,
   "id": "23c9b11e-d486-4b86-98b0-89cc847f399b",
   "metadata": {},
   "outputs": [],
   "source": [
    "name = \"Aliya Fanaskar\""
   ]
  },
  {
   "cell_type": "code",
   "execution_count": 53,
   "id": "b51bc7ef-89fb-4d8a-b649-846bd7a5495d",
   "metadata": {},
   "outputs": [
    {
     "name": "stdout",
     "output_type": "stream",
     "text": [
      "14\n"
     ]
    }
   ],
   "source": [
    "print(len(name))"
   ]
  },
  {
   "cell_type": "markdown",
   "id": "ef6f5ec9-5538-4492-b188-f59bfe453a3f",
   "metadata": {},
   "source": [
    "**`  A    l    i    y    a         F    a    n    a    s    k    a    r`**\\\n",
    "`  0    1    2    3    4    5    6    7    8    9    10   11   12   13`\\\n",
    "`-14  -13  -12   -11  -10   -9   -8   -7   -6   -5   -4   -3   -2   -1`\n"
   ]
  },
  {
   "cell_type": "markdown",
   "id": "5e9ac99d-6096-4d5e-bb10-3b7023755674",
   "metadata": {},
   "source": [
    "list slicing syntax: `list[start:end:step]`"
   ]
  },
  {
   "cell_type": "code",
   "execution_count": 54,
   "id": "6cda8dda-d77e-4946-975c-761efc3f1815",
   "metadata": {},
   "outputs": [
    {
     "data": {
      "text/plain": [
       "'A'"
      ]
     },
     "execution_count": 54,
     "metadata": {},
     "output_type": "execute_result"
    }
   ],
   "source": [
    "name[0]"
   ]
  },
  {
   "cell_type": "code",
   "execution_count": 55,
   "id": "ab781011-acfb-4f24-b3d4-651b9c5347ef",
   "metadata": {},
   "outputs": [
    {
     "data": {
      "text/plain": [
       "'l'"
      ]
     },
     "execution_count": 55,
     "metadata": {},
     "output_type": "execute_result"
    }
   ],
   "source": [
    "name[1]"
   ]
  },
  {
   "cell_type": "code",
   "execution_count": 56,
   "id": "a9ea53ec-d7ae-4af8-8578-0346bae80155",
   "metadata": {},
   "outputs": [
    {
     "data": {
      "text/plain": [
       "'r'"
      ]
     },
     "execution_count": 56,
     "metadata": {},
     "output_type": "execute_result"
    }
   ],
   "source": [
    "name[-1]"
   ]
  },
  {
   "cell_type": "code",
   "execution_count": 57,
   "id": "201af1c4-6f99-4d36-859c-1e8c321c926e",
   "metadata": {},
   "outputs": [
    {
     "data": {
      "text/plain": [
       "'a'"
      ]
     },
     "execution_count": 57,
     "metadata": {},
     "output_type": "execute_result"
    }
   ],
   "source": [
    "name[-7]"
   ]
  },
  {
   "cell_type": "code",
   "execution_count": 58,
   "id": "0b8a8029-3a4a-4f6f-be00-97c79f9d0fe7",
   "metadata": {},
   "outputs": [
    {
     "data": {
      "text/plain": [
       "'liya'"
      ]
     },
     "execution_count": 58,
     "metadata": {},
     "output_type": "execute_result"
    }
   ],
   "source": [
    "name[1:5]"
   ]
  },
  {
   "cell_type": "code",
   "execution_count": 59,
   "id": "c6ccf41f-16ad-4a16-be5c-16d8719dd595",
   "metadata": {},
   "outputs": [
    {
     "data": {
      "text/plain": [
       "'ska'"
      ]
     },
     "execution_count": 59,
     "metadata": {},
     "output_type": "execute_result"
    }
   ],
   "source": [
    "name[-4:-1]"
   ]
  },
  {
   "cell_type": "code",
   "execution_count": 60,
   "id": "f00eb497-eb69-4424-bcff-fba63406748b",
   "metadata": {},
   "outputs": [
    {
     "data": {
      "text/plain": [
       "''"
      ]
     },
     "execution_count": 60,
     "metadata": {},
     "output_type": "execute_result"
    }
   ],
   "source": [
    "name[9:3]"
   ]
  },
  {
   "cell_type": "code",
   "execution_count": 61,
   "id": "ca3f5212-2498-4839-8efb-6390422a8a8c",
   "metadata": {},
   "outputs": [
    {
     "data": {
      "text/plain": [
       "''"
      ]
     },
     "execution_count": 61,
     "metadata": {},
     "output_type": "execute_result"
    }
   ],
   "source": [
    "name[-6:-12]"
   ]
  },
  {
   "cell_type": "code",
   "execution_count": 62,
   "id": "e611666a-7d95-46e1-a0fc-aac15865144d",
   "metadata": {},
   "outputs": [
    {
     "data": {
      "text/plain": [
       "'Aliya F'"
      ]
     },
     "execution_count": 62,
     "metadata": {},
     "output_type": "execute_result"
    }
   ],
   "source": [
    "name[:7]"
   ]
  },
  {
   "cell_type": "code",
   "execution_count": 63,
   "id": "bb88ae3d-7501-481c-a03d-7030bae302b8",
   "metadata": {},
   "outputs": [
    {
     "data": {
      "text/plain": [
       "'Aliy'"
      ]
     },
     "execution_count": 63,
     "metadata": {},
     "output_type": "execute_result"
    }
   ],
   "source": [
    "name[:-10]"
   ]
  },
  {
   "cell_type": "code",
   "execution_count": 64,
   "id": "45224fea-07f5-4a66-9734-7cbefd1c7ea5",
   "metadata": {},
   "outputs": [
    {
     "data": {
      "text/plain": [
       "'ya Fanaskar'"
      ]
     },
     "execution_count": 64,
     "metadata": {},
     "output_type": "execute_result"
    }
   ],
   "source": [
    "name[3:]"
   ]
  },
  {
   "cell_type": "code",
   "execution_count": 65,
   "id": "8285071a-ca5f-455d-a17b-8e5efbdca370",
   "metadata": {},
   "outputs": [
    {
     "data": {
      "text/plain": [
       "'naskar'"
      ]
     },
     "execution_count": 65,
     "metadata": {},
     "output_type": "execute_result"
    }
   ],
   "source": [
    "name[-6:]"
   ]
  },
  {
   "cell_type": "code",
   "execution_count": 66,
   "id": "4b133653-9e98-4447-b5d7-4d65f32d5c8c",
   "metadata": {},
   "outputs": [
    {
     "data": {
      "text/plain": [
       "'raksanaF ayilA'"
      ]
     },
     "execution_count": 66,
     "metadata": {},
     "output_type": "execute_result"
    }
   ],
   "source": [
    "name[::-1]"
   ]
  },
  {
   "cell_type": "code",
   "execution_count": 67,
   "id": "fd9fba5a-9f73-454d-bf0a-907cd350cfca",
   "metadata": {},
   "outputs": [
    {
     "data": {
      "text/plain": [
       "'AiaFnsa'"
      ]
     },
     "execution_count": 67,
     "metadata": {},
     "output_type": "execute_result"
    }
   ],
   "source": [
    "name[::2]"
   ]
  },
  {
   "cell_type": "code",
   "execution_count": 68,
   "id": "3f8f4dca-a108-445a-b731-991fa27bb400",
   "metadata": {},
   "outputs": [
    {
     "data": {
      "text/plain": [
       "'ly aakr'"
      ]
     },
     "execution_count": 68,
     "metadata": {},
     "output_type": "execute_result"
    }
   ],
   "source": [
    "name[1::2]"
   ]
  },
  {
   "cell_type": "code",
   "execution_count": 69,
   "id": "bd6bc365-da09-4142-aae5-28cc979e99d1",
   "metadata": {},
   "outputs": [
    {
     "data": {
      "text/plain": [
       "'i nk'"
      ]
     },
     "execution_count": 69,
     "metadata": {},
     "output_type": "execute_result"
    }
   ],
   "source": [
    "name[2:12:3]"
   ]
  },
  {
   "cell_type": "markdown",
   "id": "3b0f7c3a-8e2e-4fa0-af94-5e5dc33c7ea1",
   "metadata": {},
   "source": [
    "## String Membership Testing "
   ]
  },
  {
   "cell_type": "markdown",
   "id": "9cd2dd44-5d83-42e9-ac71-6508ff061ad9",
   "metadata": {},
   "source": [
    "#### Using in Method"
   ]
  },
  {
   "cell_type": "code",
   "execution_count": 70,
   "id": "9dcc5716-25bc-498a-adab-2ea840b809a7",
   "metadata": {},
   "outputs": [],
   "source": [
    "f = 'Words for Fun'"
   ]
  },
  {
   "cell_type": "code",
   "execution_count": 71,
   "id": "fa9e1d9f-43fa-4d6c-a7b9-d6249dda330b",
   "metadata": {},
   "outputs": [
    {
     "name": "stdout",
     "output_type": "stream",
     "text": [
      "False\n"
     ]
    }
   ],
   "source": [
    "print(\"words\" in f)"
   ]
  },
  {
   "cell_type": "code",
   "execution_count": 72,
   "id": "f621653a-ce68-4999-b313-b6e1bf628e97",
   "metadata": {},
   "outputs": [
    {
     "name": "stdout",
     "output_type": "stream",
     "text": [
      "True\n"
     ]
    }
   ],
   "source": [
    "print(\"Words\" in f)"
   ]
  },
  {
   "cell_type": "markdown",
   "id": "82f3dbd4-144b-42d6-9740-422e8a43e4ac",
   "metadata": {},
   "source": [
    "#### Using startswith() and endswith() Method"
   ]
  },
  {
   "cell_type": "code",
   "execution_count": 73,
   "id": "47ae8fd3-972c-4450-97d5-8ad1f67dbf2a",
   "metadata": {},
   "outputs": [],
   "source": [
    "s = \"Hello world\""
   ]
  },
  {
   "cell_type": "code",
   "execution_count": 74,
   "id": "ae635c56-1120-4fcc-89ab-6203450789ca",
   "metadata": {},
   "outputs": [
    {
     "name": "stdout",
     "output_type": "stream",
     "text": [
      "True\n"
     ]
    }
   ],
   "source": [
    "print(s.startswith('Hello'))"
   ]
  },
  {
   "cell_type": "code",
   "execution_count": 75,
   "id": "65351be3-d40c-4d5f-b7c5-4babf9f1663f",
   "metadata": {},
   "outputs": [
    {
     "name": "stdout",
     "output_type": "stream",
     "text": [
      "False\n"
     ]
    }
   ],
   "source": [
    "print(s.endswith('World'))"
   ]
  },
  {
   "cell_type": "code",
   "execution_count": 76,
   "id": "e3bf82a1-dac5-4c69-8934-6f787bbf0c99",
   "metadata": {},
   "outputs": [
    {
     "name": "stdout",
     "output_type": "stream",
     "text": [
      "True\n"
     ]
    }
   ],
   "source": [
    "print(s.endswith('world'))"
   ]
  },
  {
   "attachments": {},
   "cell_type": "markdown",
   "id": "46c74cda-3bac-479e-a63b-6f2436fd0deb",
   "metadata": {},
   "source": [
    "## String Immutability \n",
    "Strings are immutable meaning that they cannot be changed after they are created."
   ]
  },
  {
   "cell_type": "code",
   "execution_count": 77,
   "id": "dc8d471e-80ef-4544-80df-56ff168e24a9",
   "metadata": {},
   "outputs": [],
   "source": [
    "t = \"Sample Text\""
   ]
  },
  {
   "cell_type": "code",
   "execution_count": 78,
   "id": "8fb5ae17-1328-49b1-9a37-39552e81c278",
   "metadata": {},
   "outputs": [],
   "source": [
    "#Trying to change the first character raises an error"
   ]
  },
  {
   "cell_type": "code",
   "execution_count": 79,
   "id": "64077a1c-4352-47f4-8f60-507f2c4338f0",
   "metadata": {},
   "outputs": [
    {
     "data": {
      "text/plain": [
       "'S'"
      ]
     },
     "execution_count": 79,
     "metadata": {},
     "output_type": "execute_result"
    }
   ],
   "source": [
    "t[0]"
   ]
  },
  {
   "cell_type": "code",
   "execution_count": 80,
   "id": "eb95ce66-e50c-471d-aaaf-fc40eb328572",
   "metadata": {},
   "outputs": [
    {
     "data": {
      "text/plain": [
       "'ample Text'"
      ]
     },
     "execution_count": 80,
     "metadata": {},
     "output_type": "execute_result"
    }
   ],
   "source": [
    "t[1:]"
   ]
  },
  {
   "cell_type": "code",
   "execution_count": 81,
   "id": "e35bb0b3-11c6-4fdb-ba08-f4438e25c8f9",
   "metadata": {},
   "outputs": [],
   "source": [
    "# t[0] = 'T'         # will give TypeError"
   ]
  },
  {
   "cell_type": "code",
   "execution_count": 82,
   "id": "c425bbee-9382-4863-8c9c-cbaa87893a39",
   "metadata": {},
   "outputs": [
    {
     "name": "stdout",
     "output_type": "stream",
     "text": [
      "Trample Text\n"
     ]
    }
   ],
   "source": [
    "s = \"Tr\" + t[1:]\n",
    "print(s)"
   ]
  },
  {
   "cell_type": "markdown",
   "id": "e5569ece-bf44-41da-b866-e036e60344e7",
   "metadata": {},
   "source": [
    "---\n",
    "## Formatting Python String"
   ]
  },
  {
   "cell_type": "markdown",
   "id": "cc5846dd-399d-4eaf-8c04-f67a9c440eeb",
   "metadata": {},
   "source": [
    "#### Using f-strings"
   ]
  },
  {
   "cell_type": "code",
   "execution_count": 83,
   "id": "89ec0620-d803-4bae-b0c2-c688779a4ca7",
   "metadata": {},
   "outputs": [
    {
     "name": "stdout",
     "output_type": "stream",
     "text": [
      "Name: Aliya, Age: 25\n",
      "Message from Candidate: Hi, my name is Aliya and I'm 25 years old.\n"
     ]
    }
   ],
   "source": [
    "name = \"Aliya\"\n",
    "age = 25\n",
    "print(f\"Name: {name}, Age: {age}\")\n",
    "print(f\"Message from Candidate: Hi, my name is {name} and I'm {age} years old.\")"
   ]
  },
  {
   "cell_type": "code",
   "execution_count": 84,
   "id": "8229a46e-cfba-4c13-b9b1-25afb472421d",
   "metadata": {},
   "outputs": [
    {
     "name": "stdout",
     "output_type": "stream",
     "text": [
      "the sum of 15 and 20 is 35\n"
     ]
    }
   ],
   "source": [
    "a = 15\n",
    "b = 20\n",
    "print(f\"the sum of {a} and {b} is {a+b}\")"
   ]
  },
  {
   "cell_type": "code",
   "execution_count": 85,
   "id": "cb3d7278-c6fa-4b1a-be9a-188b255cc4db",
   "metadata": {},
   "outputs": [
    {
     "name": "stdout",
     "output_type": "stream",
     "text": [
      "{Hello there!}\n"
     ]
    }
   ],
   "source": [
    "print(f\"{{Hello there!}}\")"
   ]
  },
  {
   "cell_type": "code",
   "execution_count": 86,
   "id": "bf884040-962e-42de-87ac-fe9d9e454486",
   "metadata": {},
   "outputs": [
    {
     "name": "stdout",
     "output_type": "stream",
     "text": [
      "{{{Hello there!}}}\n"
     ]
    }
   ],
   "source": [
    "print(f\"{{{{{{Hello there!}}}}}}\")"
   ]
  },
  {
   "cell_type": "markdown",
   "id": "1651cebe-8b04-4b35-96f3-433b47e9e416",
   "metadata": {},
   "source": [
    "**{variable : .xf}**"
   ]
  },
  {
   "cell_type": "code",
   "execution_count": 87,
   "id": "5e8b7910-b80f-4545-897c-9d0be3c35693",
   "metadata": {},
   "outputs": [
    {
     "name": "stdout",
     "output_type": "stream",
     "text": [
      "The price of the Product is $1257425.32568\n",
      "The price of the Product is $1257425\n",
      "The price of the Product is $1,257,425.32568\n",
      "The price of the Product is $1,257,425.33\n",
      "The price of the Product is $1_257_425.32568\n"
     ]
    }
   ],
   "source": [
    "price = 1257425.32568\n",
    "print(f\"The price of the Product is ${price:}\")\n",
    "print(f\"The price of the Product is ${price:.0f}\")\n",
    "print(f\"The price of the Product is ${price:,}\")\n",
    "print(f\"The price of the Product is ${price:,.2f}\")\n",
    "print(f\"The price of the Product is ${price:_}\")"
   ]
  },
  {
   "cell_type": "markdown",
   "id": "65793a2f-17ac-4f4e-9743-cfd8f9c1d6fa",
   "metadata": {},
   "source": [
    "**In python, `.2f` is a format specifier used within string formatting to display a floating-point number**"
   ]
  },
  {
   "cell_type": "code",
   "execution_count": 88,
   "id": "0dc88a42-697f-445a-9e3b-595296e49504",
   "metadata": {},
   "outputs": [
    {
     "name": "stdout",
     "output_type": "stream",
     "text": [
      "Id of Aliya is 101\n"
     ]
    }
   ],
   "source": [
    "info = {'Id' : 101, 'Name' : 'Aliya'}\n",
    "\n",
    "print(f\"Id of {info['Name']} is {info['Id']}\")"
   ]
  },
  {
   "cell_type": "code",
   "execution_count": 89,
   "id": "d9d278d3-bc0b-4a2b-a17b-675916e3ad22",
   "metadata": {},
   "outputs": [
    {
     "name": "stdout",
     "output_type": "stream",
     "text": [
      "Date : 9-6-2025\n",
      "Date : 09-06-2025\n",
      "Date : 09/06/2025\n"
     ]
    }
   ],
   "source": [
    "d = (9, 6, 2025)\n",
    "print(f\"Date : {d[0]}-{d[1]}-{d[2]}\")\n",
    "print(f\"Date : {d[0]:02}-{d[1]:02}-{d[2]}\")\n",
    "print(f\"Date : {d[0]:02}/{d[1]:02}/{d[2]}\")"
   ]
  },
  {
   "cell_type": "code",
   "execution_count": 90,
   "id": "719dff52-8738-4295-abd0-f5b5485e46cc",
   "metadata": {},
   "outputs": [],
   "source": [
    "words = [\"Hello\", \"World!\", \"I\", \"am\", \"a\", \"Human!\"]"
   ]
  },
  {
   "cell_type": "code",
   "execution_count": 91,
   "id": "8ce337a6-1340-478a-bcdb-178de8ebba40",
   "metadata": {},
   "outputs": [
    {
     "data": {
      "text/plain": [
       "'Hello\\nWorld!\\nI\\nam\\na\\nHuman!'"
      ]
     },
     "execution_count": 91,
     "metadata": {},
     "output_type": "execute_result"
    }
   ],
   "source": [
    "f\"{'\\n'.join(words)}\""
   ]
  },
  {
   "cell_type": "code",
   "execution_count": 92,
   "id": "60ed1a5c-bdb1-43d3-9f9a-3143d2b8cd7e",
   "metadata": {},
   "outputs": [
    {
     "name": "stdout",
     "output_type": "stream",
     "text": [
      "Hello\n",
      "World!\n",
      "I\n",
      "am\n",
      "a\n",
      "Human!\n"
     ]
    }
   ],
   "source": [
    "print(f\"{'\\n'.join(words)}\")"
   ]
  },
  {
   "cell_type": "code",
   "execution_count": 93,
   "id": "dbf20792-2460-4dfd-a1ef-b25eb4fe9018",
   "metadata": {},
   "outputs": [
    {
     "name": "stdout",
     "output_type": "stream",
     "text": [
      "'Hello\\nWorld!\\nI\\nam\\na\\nHuman!'\n"
     ]
    }
   ],
   "source": [
    "print(repr(f\"{'\\n'.join(words)}\"))"
   ]
  },
  {
   "cell_type": "markdown",
   "id": "e3941951-3ffe-479d-b9de-091e6e5e8794",
   "metadata": {},
   "source": [
    "#### Using str.format()"
   ]
  },
  {
   "cell_type": "code",
   "execution_count": 94,
   "id": "df6a5a0a-f001-4ac5-af96-df82a8f089f0",
   "metadata": {},
   "outputs": [
    {
     "name": "stdout",
     "output_type": "stream",
     "text": [
      "Name: Aliya, Age:25\n"
     ]
    }
   ],
   "source": [
    "#using keyword arguments\n",
    "print(\"Name: {name}, Age:{age}\".format(name=\"Aliya\", age=25))"
   ]
  },
  {
   "cell_type": "code",
   "execution_count": 95,
   "id": "efbb443a-b0e2-4406-8db7-ddc47c483be8",
   "metadata": {},
   "outputs": [
    {
     "name": "stdout",
     "output_type": "stream",
     "text": [
      "Hello, Aliya! You are 25 years old\n"
     ]
    }
   ],
   "source": [
    "#classic method\n",
    "name = \"Aliya\"\n",
    "age = 25\n",
    "print(\"Hello, {}! You are {} years old\".format(name, age))"
   ]
  },
  {
   "cell_type": "code",
   "execution_count": 96,
   "id": "03c02e4a-e284-42f7-b698-2089746cb9ba",
   "metadata": {},
   "outputs": [
    {
     "name": "stdout",
     "output_type": "stream",
     "text": [
      "Name: Aliya, Age: 25\n"
     ]
    }
   ],
   "source": [
    "#using positional arguments\n",
    "print(\"Name: {0}, Age: {1}\".format(name, age))"
   ]
  },
  {
   "cell_type": "code",
   "execution_count": 97,
   "id": "f17bae1e-488c-42e4-8aa3-ad92d9b5b927",
   "metadata": {},
   "outputs": [
    {
     "name": "stdout",
     "output_type": "stream",
     "text": [
      "Name: 25, Age: Aliya\n"
     ]
    }
   ],
   "source": [
    "print(\"Name: {1}, Age: {0}\".format(name, age))"
   ]
  },
  {
   "cell_type": "code",
   "execution_count": 98,
   "id": "50247f1d-db44-4d93-8fb5-950c0e6cb0c6",
   "metadata": {},
   "outputs": [
    {
     "name": "stdout",
     "output_type": "stream",
     "text": [
      "The order is apple, banana and another apple.\n"
     ]
    }
   ],
   "source": [
    "print(\"The order is {0}, {1} and another {0}.\".format(\"apple\",\"banana\"))"
   ]
  },
  {
   "attachments": {},
   "cell_type": "markdown",
   "id": "d2210227-a426-4604-9390-c9321d0441a1",
   "metadata": {},
   "source": [
    "#### Using Format specifier(%)\n",
    "\n",
    "**Format Specifiers** or the **modulo (%) operator** for string formatting is the oldest method in Python.\\\n",
    "Most commonly used format specifiers:\\\n",
    "**%s** - string\\\n",
    "**%c** - single character\\\n",
    "**%d** - integer (decimal)\\\n",
    "**%f** - float\\\n",
    "**%(sp).(num)f** - float... (sp) denotes no. of space before no. and (num) denotes no. of digits after .\\"
   ]
  },
  {
   "cell_type": "code",
   "execution_count": 99,
   "id": "b386a8d4-ac63-4727-b910-91494b9ca102",
   "metadata": {},
   "outputs": [
    {
     "name": "stdout",
     "output_type": "stream",
     "text": [
      "String is 'This is a string'\n"
     ]
    }
   ],
   "source": [
    "a = \"This is a string\"\n",
    "print(\"String is '%s'\" % a)"
   ]
  },
  {
   "cell_type": "code",
   "execution_count": 100,
   "id": "519615db-0f84-4c5f-b260-1d5a9475633d",
   "metadata": {},
   "outputs": [
    {
     "name": "stdout",
     "output_type": "stream",
     "text": [
      "The name of the first candidate is Aliya\n",
      "The name of the second candidate is Arman\n",
      "The name of the third candidate is Yunus\n"
     ]
    }
   ],
   "source": [
    "names = [\"Aliya\", \"Arman\", \"Yunus\"]\n",
    "print('The name of the first candidate is %s' %names[0])\n",
    "print('The name of the second candidate is %s' %names[1])\n",
    "print('The name of the third candidate is %s' %names[2])"
   ]
  },
  {
   "cell_type": "code",
   "execution_count": 101,
   "id": "ce8edc72-6769-4e42-a9b1-eaafba58f75f",
   "metadata": {},
   "outputs": [
    {
     "name": "stdout",
     "output_type": "stream",
     "text": [
      "Single character is a\n"
     ]
    }
   ],
   "source": [
    "# single character\n",
    "x = 'a'\n",
    "print(\"Single character is %c\" % x)"
   ]
  },
  {
   "cell_type": "code",
   "execution_count": 102,
   "id": "c9a7da4b-5ee6-4600-8b46-46d312e4cb96",
   "metadata": {},
   "outputs": [
    {
     "name": "stdout",
     "output_type": "stream",
     "text": [
      "Single character is 1\n"
     ]
    }
   ],
   "source": [
    "y = '1'\n",
    "print(\"Single character is %c\" % y)"
   ]
  },
  {
   "cell_type": "code",
   "execution_count": 103,
   "id": "d4b82301-dfe0-459f-92fa-f9ef66c776fe",
   "metadata": {},
   "outputs": [
    {
     "name": "stdout",
     "output_type": "stream",
     "text": [
      "Second letter of the word is 'a'\n"
     ]
    }
   ],
   "source": [
    "word = 'cat'\n",
    "print(\"Second letter of the word is '%c'\" % word[1])"
   ]
  },
  {
   "cell_type": "code",
   "execution_count": 104,
   "id": "bf8db927-339c-41f1-a2d3-8489fb0626ac",
   "metadata": {},
   "outputs": [
    {
     "name": "stdout",
     "output_type": "stream",
     "text": [
      "number is 45\n"
     ]
    }
   ],
   "source": [
    "# integer\n",
    "c = 45\n",
    "print(\"number is %d\" % c)"
   ]
  },
  {
   "cell_type": "code",
   "execution_count": 105,
   "id": "32239112-b3b5-477f-81e1-00478a911a75",
   "metadata": {},
   "outputs": [
    {
     "name": "stdout",
     "output_type": "stream",
     "text": [
      "float is 34.521094\n",
      "float is 34.52\n",
      "float is '34.52'\n"
     ]
    }
   ],
   "source": [
    "# float without specified precision\n",
    "d = 34.521094\n",
    "print(\"float is %f\" % d)\n",
    "print(\"float is %.2f\" % d)\n",
    "print(\"float is '%.2f'\" % d)"
   ]
  },
  {
   "cell_type": "markdown",
   "id": "de10ed84-55c5-4a09-9fba-1ac2cfefd420",
   "metadata": {},
   "source": [
    "#### *Some more format specifiers:*\\\n",
    "**%x / %X** - hexadecimal representation of the value\\\n",
    "**%o** - octal representation of the value\\"
   ]
  },
  {
   "cell_type": "code",
   "execution_count": 106,
   "id": "d149b1c7-d529-47b4-ac31-cea5ba5cc608",
   "metadata": {},
   "outputs": [
    {
     "name": "stdout",
     "output_type": "stream",
     "text": [
      "Hexadecimal value of 11 is B\n",
      "Octal value of 11 is 13\n"
     ]
    }
   ],
   "source": [
    "x = 11\n",
    "print(\"Hexadecimal value of %d is %X\" % (x, x))\n",
    "print(\"Octal value of %d is %o\" % (x, x))"
   ]
  },
  {
   "cell_type": "markdown",
   "id": "565f6a26-f5d4-49d8-99c5-cc3378bce1e7",
   "metadata": {},
   "source": [
    "**%e / %E (Scientific Notation):**\\\n",
    "The %e specifier formats a floating-point number in scientific notation (exponential notation) with a lowercase 'e' indicating the exponent."
   ]
  },
  {
   "cell_type": "code",
   "execution_count": 107,
   "id": "54cb7005-7f4c-40d6-99d9-802cb19cbf5e",
   "metadata": {},
   "outputs": [
    {
     "name": "stdout",
     "output_type": "stream",
     "text": [
      "For the number 1234.56789\n",
      "The value in scientific e notation is: 1.234568e+03\n",
      "The value in scientific e notation is: 1.2e+03\n",
      "The value in scientific e notation is: 1.23e+03\n",
      "The value in scientific e notation is: 1.235e+03\n",
      "The value in scientific e notation is: 1.2346e+03\n"
     ]
    }
   ],
   "source": [
    "m = 1234.56789\n",
    "print(\"For the number 1234.56789\")\n",
    "print(\"The value in scientific e notation is: %e\" % m)\n",
    "print(\"The value in scientific e notation is: %.1e\" % m)\n",
    "print(\"The value in scientific e notation is: %.2e\" % m)\n",
    "print(\"The value in scientific e notation is: %.3e\" % m)\n",
    "print(\"The value in scientific e notation is: %.4e\" % m)"
   ]
  },
  {
   "cell_type": "code",
   "execution_count": 108,
   "id": "2a68b623-7c34-4c39-b153-cc3eb9f3adf4",
   "metadata": {},
   "outputs": [
    {
     "name": "stdout",
     "output_type": "stream",
     "text": [
      "\n",
      "For the number 0.0000123456\n",
      "The value in scientific e notation is: 1.234560e-05\n",
      "The value in scientific e notation is: 1.2e-05\n",
      "The value in scientific e notation is: 1.23e-05\n",
      "The value in scientific e notation is: 1.235e-05\n",
      "The value in scientific e notation is: 1.2346e-05\n"
     ]
    }
   ],
   "source": [
    "n = 0.0000123456\n",
    "print(\"\\nFor the number 0.0000123456\")\n",
    "print(\"The value in scientific e notation is: %e\" % n)\n",
    "print(\"The value in scientific e notation is: %.1e\" % n)\n",
    "print(\"The value in scientific e notation is: %.2e\" % n)\n",
    "print(\"The value in scientific e notation is: %.3e\" % n)\n",
    "print(\"The value in scientific e notation is: %.4e\" % n)"
   ]
  },
  {
   "cell_type": "markdown",
   "id": "0c2cfbf9-120e-4623-8f06-44d7ee18de83",
   "metadata": {},
   "source": [
    "**%g / %G (General Format):**\\\n",
    "The ```%g``` specifier provides a \"general\" format for floating-point numbers. It chooses the more compact representation between fixed-point (%f) and scientific notation (%e), depending on the magnitude of the number, and suppresses unnecessary trailing zeros."
   ]
  },
  {
   "cell_type": "code",
   "execution_count": 109,
   "id": "13623fe2-8a1b-4347-a204-9c19715b3826",
   "metadata": {},
   "outputs": [
    {
     "name": "stdout",
     "output_type": "stream",
     "text": [
      "Large number: 123.45678\n",
      "General format: 123.457\n",
      "General format: 1e+02\n",
      "General format: 1.2e+02\n",
      "General format: 123\n",
      "General format: 123.5\n",
      "General format: 123.46\n"
     ]
    }
   ],
   "source": [
    "# Using the % operator\n",
    "p = 123.45678\n",
    "print(\"Large number: 123.45678\")\n",
    "print(\"General format: %g\" % p)\n",
    "print(\"General format: %.1g\" % p)\n",
    "print(\"General format: %.2g\" % p)\n",
    "print(\"General format: %.3g\" % p)\n",
    "print(\"General format: %.4g\" % p)\n",
    "print(\"General format: %.5g\" % p)"
   ]
  },
  {
   "cell_type": "code",
   "execution_count": 110,
   "id": "f2d0a2fe-ae3a-47a1-8124-3fc752418016",
   "metadata": {},
   "outputs": [
    {
     "name": "stdout",
     "output_type": "stream",
     "text": [
      "\n",
      "Small number: 0.0000123\n",
      "General format: 1.23e-05\n",
      "General format: 1e-05\n",
      "General format: 1.2e-05\n",
      "General format: 1.23e-05\n",
      "General format: 1.23e-05\n"
     ]
    }
   ],
   "source": [
    "q = 0.0000123\n",
    "print(\"\\nSmall number: 0.0000123\")\n",
    "print(\"General format: %g\" % q)\n",
    "print(\"General format: %.1g\" % q)\n",
    "print(\"General format: %.2g\" % q)\n",
    "print(\"General format: %.3g\" % q)\n",
    "print(\"General format: %.4g\" % q)"
   ]
  },
  {
   "cell_type": "code",
   "execution_count": 111,
   "id": "f1241a8b-1c15-463e-9544-daa88f8176c6",
   "metadata": {},
   "outputs": [
    {
     "name": "stdout",
     "output_type": "stream",
     "text": [
      "\n",
      "Very Large number: 123456789.0\n",
      "General format: 1.23457e+08\n",
      "General format: 1e+08\n",
      "General format: 1.2e+08\n",
      "General format: 1.23e+08\n",
      "General format: 1.235e+08\n",
      "General format: 1.2346e+08\n"
     ]
    }
   ],
   "source": [
    "r = 123456789.0\n",
    "print(\"\\nVery Large number: 123456789.0\")\n",
    "print(\"General format: %g\" % r)\n",
    "print(\"General format: %.1g\" % r)\n",
    "print(\"General format: %.2g\" % r)\n",
    "print(\"General format: %.3g\" % r)\n",
    "print(\"General format: %.4g\" % r)\n",
    "print(\"General format: %.5g\" % r)"
   ]
  },
  {
   "cell_type": "code",
   "execution_count": 112,
   "id": "90acc3d8-0926-46ea-a461-73f921c23751",
   "metadata": {},
   "outputs": [
    {
     "name": "stdout",
     "output_type": "stream",
     "text": [
      "Number: 0.023\n",
      "\n",
      "A small number in scientific e notation: 2.300000e-02\n",
      "A small number in scientific e notation: 2.3e-02\n",
      "A small number in scientific e notation: 2.30e-02\n",
      "\n",
      "A small number in general format: 0.023\n",
      "A small number in general format: 0.02\n",
      "A small number in general format: 0.023\n",
      "A small number in general format: 0.023\n"
     ]
    }
   ],
   "source": [
    "f_num = 0.023\n",
    "print(\"Number: 0.023\")\n",
    "print(\"\\nA small number in scientific e notation: %e\" %f_num)\n",
    "print(\"A small number in scientific e notation: %.1e\" %f_num)\n",
    "print(\"A small number in scientific e notation: %.2e\" %f_num)\n",
    "print(\"\\nA small number in general format: %g\" %f_num)\n",
    "print(\"A small number in general format: %.1g\" %f_num)\n",
    "print(\"A small number in general format: %.2g\" %f_num)\n",
    "print(\"A small number in general format: %.3g\" %f_num)"
   ]
  },
  {
   "cell_type": "code",
   "execution_count": 113,
   "id": "544e34c1-06b2-4bfb-953a-f55f52a46762",
   "metadata": {},
   "outputs": [
    {
     "name": "stdout",
     "output_type": "stream",
     "text": [
      "Number: 120000000\n",
      "\n",
      "A small number in scientific e notation: 1.200000e+08\n",
      "A small number in scientific e notation: 1.2e+08\n",
      "A small number in scientific e notation: 1.20e+08\n",
      "\n",
      "A small number in general format: 1.2e+08\n",
      "A small number in general format: 1e+08\n",
      "A small number in general format: 1.2e+08\n",
      "A small number in general format: 1.2e+08\n"
     ]
    }
   ],
   "source": [
    "d_num = 120000000\n",
    "print(\"Number: 120000000\")\n",
    "print(\"\\nA small number in scientific e notation: %e\" %d_num)\n",
    "print(\"A small number in scientific e notation: %.1e\" %d_num)\n",
    "print(\"A small number in scientific e notation: %.2e\" %d_num)\n",
    "print(\"\\nA small number in general format: %g\" %d_num)\n",
    "print(\"A small number in general format: %.1g\" %d_num)\n",
    "print(\"A small number in general format: %.2g\" %d_num)\n",
    "print(\"A small number in general format: %.3g\" %d_num)"
   ]
  },
  {
   "cell_type": "markdown",
   "id": "3cfee0a2-5129-4237-9d47-5899e6815a12",
   "metadata": {},
   "source": [
    "***scientific e notation** is a way to express very large or very small numbers concisely. It replaces 'x10^' part of stantard notation with 'e'\n",
    "For eg:\\\n",
    "the number 120000000 i.e 12crores becomes \\\n",
    "'1.2 x 10^8' as per scientific notation\\\n",
    "'1.2e8' as per scientific e notation\\\n",
    "\\\n",
    "similarly;\\\n",
    "the number 0.0000012 becomes\\\n",
    "'1.2 x 10^-6' as per scientific notification\\\n",
    "'1.2e-6' as per scientific e notification*"
   ]
  }
 ],
 "metadata": {
  "kernelspec": {
   "display_name": "Python 3 (ipykernel)",
   "language": "python",
   "name": "python3"
  },
  "language_info": {
   "codemirror_mode": {
    "name": "ipython",
    "version": 3
   },
   "file_extension": ".py",
   "mimetype": "text/x-python",
   "name": "python",
   "nbconvert_exporter": "python",
   "pygments_lexer": "ipython3",
   "version": "3.13.6"
  }
 },
 "nbformat": 4,
 "nbformat_minor": 5
}
