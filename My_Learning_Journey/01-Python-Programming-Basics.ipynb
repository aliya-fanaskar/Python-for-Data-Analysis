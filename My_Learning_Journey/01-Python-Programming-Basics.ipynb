{
 "cells": [
  {
   "cell_type": "markdown",
   "id": "f4f963ad-f0d4-4175-bad5-34e557c25ccc",
   "metadata": {},
   "source": [
    "# Python Programming Basics\n",
    "A little brief intro to the basics of Python Programming. (later covered individually in detail in further files)"
   ]
  },
  {
   "cell_type": "markdown",
   "id": "8e1fb080-036b-418f-9418-caa81c2d4711",
   "metadata": {},
   "source": [
    "---\n",
    "## Print Statement"
   ]
  },
  {
   "cell_type": "markdown",
   "id": "34352f57-b3c9-4db6-8c36-be6c15f430cd",
   "metadata": {},
   "source": [
    "The ```print()``` function in Python is a built-in function used to display output on the console or other standard output devices. It can be used to print various data types, including numbers, text (strings), and the results of expressions."
   ]
  },
  {
   "cell_type": "code",
   "execution_count": 1,
   "id": "5bc495ec-38e2-402d-a029-ad74548eaacb",
   "metadata": {},
   "outputs": [
    {
     "name": "stdout",
     "output_type": "stream",
     "text": [
      "Hello, World!\n",
      "123\n"
     ]
    }
   ],
   "source": [
    "print(\"Hello, World!\")\n",
    "print(123) "
   ]
  },
  {
   "cell_type": "code",
   "execution_count": 2,
   "id": "6ca8b548-49a1-4d62-8fd0-6360cad95d0e",
   "metadata": {},
   "outputs": [
    {
     "name": "stdout",
     "output_type": "stream",
     "text": [
      "Hi! I am Anita. I am from India.\n"
     ]
    }
   ],
   "source": [
    "print(\"Hi! I am Anita. I am from India.\")"
   ]
  },
  {
   "cell_type": "code",
   "execution_count": 3,
   "id": "420c4bd6-5468-44b9-a4a7-95b246c7e9be",
   "metadata": {},
   "outputs": [
    {
     "name": "stdout",
     "output_type": "stream",
     "text": [
      "Hi! I am Anita.\n",
      "I am from India.\n"
     ]
    }
   ],
   "source": [
    "print(\"Hi! I am Anita.\\nI am from India.\")    # the '\\n' creates a new line"
   ]
  },
  {
   "cell_type": "code",
   "execution_count": 4,
   "id": "262a2b98-d398-45eb-b681-217ea755151b",
   "metadata": {},
   "outputs": [
    {
     "name": "stdout",
     "output_type": "stream",
     "text": [
      "Name: Alice Jones \n",
      "Age: 30\n"
     ]
    }
   ],
   "source": [
    "name = \"Alice Jones\"\n",
    "age = 30\n",
    "print(\"Name:\", name, \"\\nAge:\", age) "
   ]
  },
  {
   "cell_type": "markdown",
   "id": "4b9181e5-b8a3-458d-8bd3-923747ea5e37",
   "metadata": {},
   "source": [
    "---\n",
    "## Add Comments"
   ]
  },
  {
   "cell_type": "code",
   "execution_count": 5,
   "id": "641b723f-0ca5-4ce8-8594-63fe5fa9aebb",
   "metadata": {},
   "outputs": [],
   "source": [
    "# Comments are sentences not executed by the computer and\n",
    "# are written with the help of hash symbol '#' before the beginning of a line"
   ]
  },
  {
   "cell_type": "code",
   "execution_count": 6,
   "id": "4f35953a-ea6f-481b-9aa5-7b6763dd6f26",
   "metadata": {},
   "outputs": [],
   "source": [
    "# The shortcut to convert any line into comment is 'Ctrl + /'"
   ]
  },
  {
   "cell_type": "code",
   "execution_count": 7,
   "id": "0576b855-6682-437e-801e-e3fa377f83cd",
   "metadata": {},
   "outputs": [],
   "source": [
    "# Their primary purpose is to enhance code readability and \n",
    "# provide explanations or notes for readers to get better understanding of the code."
   ]
  },
  {
   "cell_type": "markdown",
   "id": "a6751438-8bdc-405d-b250-a1468fe768e8",
   "metadata": {},
   "source": [
    "---\n",
    "## Variables\n",
    "Variables are used to store data values. They act as named containers or labels for information that can be referenced and manipulated throughout a program."
   ]
  },
  {
   "cell_type": "code",
   "execution_count": 8,
   "id": "4e911ac7-9d88-4477-822d-79c9a5632877",
   "metadata": {},
   "outputs": [],
   "source": [
    "x = 5"
   ]
  },
  {
   "cell_type": "code",
   "execution_count": 9,
   "id": "8681556d-7312-40de-b6b3-0bf2998d9037",
   "metadata": {},
   "outputs": [
    {
     "data": {
      "text/plain": [
       "5"
      ]
     },
     "execution_count": 9,
     "metadata": {},
     "output_type": "execute_result"
    }
   ],
   "source": [
    "x"
   ]
  },
  {
   "cell_type": "code",
   "execution_count": 10,
   "id": "bb137ac0-7c0d-4d0d-9243-9c801f32876c",
   "metadata": {},
   "outputs": [],
   "source": [
    "# python is case sensitive"
   ]
  },
  {
   "cell_type": "code",
   "execution_count": 11,
   "id": "69f63e61-460a-4c79-98b7-87714f950845",
   "metadata": {},
   "outputs": [],
   "source": [
    "y = 8"
   ]
  },
  {
   "cell_type": "code",
   "execution_count": 12,
   "id": "6c8030eb-c1af-496f-8501-bf69dd08a817",
   "metadata": {},
   "outputs": [
    {
     "name": "stdout",
     "output_type": "stream",
     "text": [
      "8\n"
     ]
    }
   ],
   "source": [
    "print(y)"
   ]
  },
  {
   "cell_type": "code",
   "execution_count": 13,
   "id": "7c59ed1a-9d59-465e-9754-e0bcb05181d3",
   "metadata": {},
   "outputs": [],
   "source": [
    "x, y = 1, 2"
   ]
  },
  {
   "cell_type": "code",
   "execution_count": 14,
   "id": "ed6dc7e1-0701-4fc7-a9d5-c3889ed74d00",
   "metadata": {},
   "outputs": [
    {
     "data": {
      "text/plain": [
       "1"
      ]
     },
     "execution_count": 14,
     "metadata": {},
     "output_type": "execute_result"
    }
   ],
   "source": [
    "x"
   ]
  },
  {
   "cell_type": "code",
   "execution_count": 15,
   "id": "f9f0dd24-24aa-4600-bb63-1701de17e7d5",
   "metadata": {},
   "outputs": [
    {
     "data": {
      "text/plain": [
       "2"
      ]
     },
     "execution_count": 15,
     "metadata": {},
     "output_type": "execute_result"
    }
   ],
   "source": [
    "y"
   ]
  },
  {
   "cell_type": "code",
   "execution_count": 16,
   "id": "02b513c4-b5b7-45ed-9cb0-873c6e519b47",
   "metadata": {},
   "outputs": [],
   "source": [
    "a, b, c, d = 10, 20, 30, 40"
   ]
  },
  {
   "cell_type": "code",
   "execution_count": 17,
   "id": "d6b27fdb-22e2-4aad-8707-d4cdf48adf18",
   "metadata": {},
   "outputs": [
    {
     "data": {
      "text/plain": [
       "30"
      ]
     },
     "execution_count": 17,
     "metadata": {},
     "output_type": "execute_result"
    }
   ],
   "source": [
    "c"
   ]
  },
  {
   "cell_type": "code",
   "execution_count": 18,
   "id": "73f04c75-ff23-47b4-9d34-f17a732ad099",
   "metadata": {},
   "outputs": [
    {
     "data": {
      "text/plain": [
       "10"
      ]
     },
     "execution_count": 18,
     "metadata": {},
     "output_type": "execute_result"
    }
   ],
   "source": [
    "a"
   ]
  },
  {
   "cell_type": "markdown",
   "id": "9f7764c3-9391-4370-abab-6d467ba358ac",
   "metadata": {},
   "source": [
    "### Reassign Values"
   ]
  },
  {
   "cell_type": "code",
   "execution_count": 19,
   "id": "b5f1ad52-2da8-4a97-a099-1e5d0cdf31e2",
   "metadata": {},
   "outputs": [],
   "source": [
    "z = 1"
   ]
  },
  {
   "cell_type": "code",
   "execution_count": 20,
   "id": "063d2613-5246-4887-8d1b-d97f6b4c58a0",
   "metadata": {},
   "outputs": [
    {
     "data": {
      "text/plain": [
       "1"
      ]
     },
     "execution_count": 20,
     "metadata": {},
     "output_type": "execute_result"
    }
   ],
   "source": [
    "z"
   ]
  },
  {
   "cell_type": "code",
   "execution_count": 21,
   "id": "ba552929-fe20-4433-8a0d-7faa68c4ce63",
   "metadata": {},
   "outputs": [],
   "source": [
    "z = 3"
   ]
  },
  {
   "cell_type": "code",
   "execution_count": 22,
   "id": "79c6341d-a0cc-4977-94ee-4da2792f70e5",
   "metadata": {},
   "outputs": [
    {
     "data": {
      "text/plain": [
       "3"
      ]
     },
     "execution_count": 22,
     "metadata": {},
     "output_type": "execute_result"
    }
   ],
   "source": [
    "z"
   ]
  },
  {
   "cell_type": "code",
   "execution_count": 23,
   "id": "8719580a-2fa8-48bd-be75-20e75c3271d7",
   "metadata": {},
   "outputs": [
    {
     "data": {
      "text/plain": [
       "8"
      ]
     },
     "execution_count": 23,
     "metadata": {},
     "output_type": "execute_result"
    }
   ],
   "source": [
    "z + 5"
   ]
  },
  {
   "cell_type": "code",
   "execution_count": 24,
   "id": "7a281158-fa66-4692-b7ff-0b9630ef5dce",
   "metadata": {},
   "outputs": [],
   "source": [
    "z = 2"
   ]
  },
  {
   "cell_type": "code",
   "execution_count": 25,
   "id": "a2f9661c-4c7d-43f1-aa01-1359e0debf51",
   "metadata": {},
   "outputs": [
    {
     "data": {
      "text/plain": [
       "-4"
      ]
     },
     "execution_count": 25,
     "metadata": {},
     "output_type": "execute_result"
    }
   ],
   "source": [
    "z - 6"
   ]
  },
  {
   "cell_type": "markdown",
   "id": "4e5f0176-1310-438c-bc51-965c3c97cf64",
   "metadata": {},
   "source": [
    "---\n",
    "## Python Data Types\n",
    "Python has the following data types built-in by default, in these categories:\n",
    "- Text Type : ```str```\n",
    "- Numeric Type : ```int```, ```float```, ```complex```\n",
    "- Sequence Type : ```list```, ```tuple```, ```range```\n",
    "- Mapping Type : ```dict```\n",
    "- Set Types : ```set```, ```frozenset```\n",
    "- Boolean Type : ```bool```\n",
    "- Binary Types : ```bytes```, ```bytearray```, ```memoryview```\n",
    "- None Type : ```NoneType```"
   ]
  },
  {
   "cell_type": "markdown",
   "id": "1f8be12f-46a7-4d81-b544-7399494a9328",
   "metadata": {},
   "source": [
    "### type()\n",
    "returns the type (or class) of the specified object"
   ]
  },
  {
   "cell_type": "code",
   "execution_count": 26,
   "id": "14af9659-6072-43a8-90e5-b24753b0b7b6",
   "metadata": {},
   "outputs": [
    {
     "data": {
      "text/plain": [
       "str"
      ]
     },
     "execution_count": 26,
     "metadata": {},
     "output_type": "execute_result"
    }
   ],
   "source": [
    "name = \"Aliya\"\n",
    "type(name)"
   ]
  },
  {
   "cell_type": "code",
   "execution_count": 27,
   "id": "10d00664-8193-4c2f-90c5-16c3fdab0810",
   "metadata": {},
   "outputs": [
    {
     "data": {
      "text/plain": [
       "int"
      ]
     },
     "execution_count": 27,
     "metadata": {},
     "output_type": "execute_result"
    }
   ],
   "source": [
    "num = 155235\n",
    "type(num)"
   ]
  },
  {
   "cell_type": "code",
   "execution_count": 28,
   "id": "fd3fa4f9-e51e-4512-9160-2a36c9d589ae",
   "metadata": {},
   "outputs": [
    {
     "data": {
      "text/plain": [
       "str"
      ]
     },
     "execution_count": 28,
     "metadata": {},
     "output_type": "execute_result"
    }
   ],
   "source": [
    "num = \"25684\"\n",
    "type(num)"
   ]
  },
  {
   "cell_type": "code",
   "execution_count": 29,
   "id": "5cd4a451-acac-41ac-83a5-f77f46050997",
   "metadata": {},
   "outputs": [
    {
     "data": {
      "text/plain": [
       "complex"
      ]
     },
     "execution_count": 29,
     "metadata": {},
     "output_type": "execute_result"
    }
   ],
   "source": [
    "x = 1j\n",
    "type(x)"
   ]
  },
  {
   "cell_type": "code",
   "execution_count": 30,
   "id": "67d5fc10-2706-4b70-aab0-4e60e66e9f4f",
   "metadata": {},
   "outputs": [],
   "source": [
    "# Integers: Positive or negative whole numbers; without a decimal point\n",
    "x = 5"
   ]
  },
  {
   "cell_type": "code",
   "execution_count": 31,
   "id": "51e731c7-f539-4e63-928d-d51647e75c61",
   "metadata": {},
   "outputs": [
    {
     "data": {
      "text/plain": [
       "int"
      ]
     },
     "execution_count": 31,
     "metadata": {},
     "output_type": "execute_result"
    }
   ],
   "source": [
    "type(x)"
   ]
  },
  {
   "cell_type": "code",
   "execution_count": 32,
   "id": "772b5cd1-1cde-46b5-83cc-8b59774bb4d9",
   "metadata": {},
   "outputs": [
    {
     "data": {
      "text/plain": [
       "int"
      ]
     },
     "execution_count": 32,
     "metadata": {},
     "output_type": "execute_result"
    }
   ],
   "source": [
    "type(-6)"
   ]
  },
  {
   "cell_type": "code",
   "execution_count": 33,
   "id": "3c0b4774-8da8-42ff-bade-74ebf2bfc25b",
   "metadata": {},
   "outputs": [
    {
     "data": {
      "text/plain": [
       "float"
      ]
     },
     "execution_count": 33,
     "metadata": {},
     "output_type": "execute_result"
    }
   ],
   "source": [
    "type(4.74)"
   ]
  },
  {
   "cell_type": "code",
   "execution_count": 34,
   "id": "77b5d5bf-3ba5-415a-93fb-edce71be0248",
   "metadata": {},
   "outputs": [
    {
     "data": {
      "text/plain": [
       "4"
      ]
     },
     "execution_count": 34,
     "metadata": {},
     "output_type": "execute_result"
    }
   ],
   "source": [
    "int(4.75)"
   ]
  },
  {
   "cell_type": "code",
   "execution_count": 35,
   "id": "b4a81526-62ad-47a9-a785-3a94347f38cb",
   "metadata": {},
   "outputs": [],
   "source": [
    "y = True"
   ]
  },
  {
   "cell_type": "code",
   "execution_count": 36,
   "id": "e521bf0b-cfd3-42f9-9406-d583a3536007",
   "metadata": {},
   "outputs": [
    {
     "data": {
      "text/plain": [
       "bool"
      ]
     },
     "execution_count": 36,
     "metadata": {},
     "output_type": "execute_result"
    }
   ],
   "source": [
    "type(y)"
   ]
  },
  {
   "cell_type": "code",
   "execution_count": 37,
   "id": "923585b2-8831-471d-b6e0-0a796d6a1451",
   "metadata": {},
   "outputs": [
    {
     "data": {
      "text/plain": [
       "'George'"
      ]
     },
     "execution_count": 37,
     "metadata": {},
     "output_type": "execute_result"
    }
   ],
   "source": [
    "'George'"
   ]
  },
  {
   "cell_type": "code",
   "execution_count": 38,
   "id": "58b29abd-b076-4507-acc2-512df5d5760b",
   "metadata": {},
   "outputs": [
    {
     "data": {
      "text/plain": [
       "'Natalie'"
      ]
     },
     "execution_count": 38,
     "metadata": {},
     "output_type": "execute_result"
    }
   ],
   "source": [
    "\"Natalie\""
   ]
  },
  {
   "cell_type": "code",
   "execution_count": 39,
   "id": "a5c99a0c-385a-45df-aa44-5cb1da4a9985",
   "metadata": {},
   "outputs": [
    {
     "name": "stdout",
     "output_type": "stream",
     "text": [
      "Anthony\n"
     ]
    }
   ],
   "source": [
    "print('Anthony')"
   ]
  },
  {
   "cell_type": "code",
   "execution_count": 40,
   "id": "ad4a1a7a-2e1d-4d67-8ee0-00324af96444",
   "metadata": {},
   "outputs": [],
   "source": [
    "b = 'Raj'"
   ]
  },
  {
   "cell_type": "code",
   "execution_count": 41,
   "id": "b4e296df-c879-47dc-a889-ed78554e3469",
   "metadata": {},
   "outputs": [
    {
     "data": {
      "text/plain": [
       "'Raj'"
      ]
     },
     "execution_count": 41,
     "metadata": {},
     "output_type": "execute_result"
    }
   ],
   "source": [
    "b"
   ]
  },
  {
   "cell_type": "code",
   "execution_count": 42,
   "id": "0e720870-d723-4d0e-bf20-68e489f562ec",
   "metadata": {},
   "outputs": [
    {
     "name": "stdout",
     "output_type": "stream",
     "text": [
      "Raj\n"
     ]
    }
   ],
   "source": [
    "print(b)"
   ]
  },
  {
   "cell_type": "code",
   "execution_count": 43,
   "id": "7f33995a-47bb-44a7-ba7d-4a843cda98ec",
   "metadata": {},
   "outputs": [
    {
     "name": "stdout",
     "output_type": "stream",
     "text": [
      "10 Dollars\n"
     ]
    }
   ],
   "source": [
    "y = 10\n",
    "\n",
    "print(str(y) + ' Dollars')"
   ]
  },
  {
   "cell_type": "code",
   "execution_count": 44,
   "id": "f746d622-296a-4757-8130-f612a95eb6b0",
   "metadata": {},
   "outputs": [
    {
     "name": "stdout",
     "output_type": "stream",
     "text": [
      "I'm Fine\n"
     ]
    }
   ],
   "source": [
    "print(\"I'm Fine\")"
   ]
  },
  {
   "cell_type": "code",
   "execution_count": 45,
   "id": "b6d5c4e2-a1f1-4cbf-b57b-9733e5438e05",
   "metadata": {},
   "outputs": [
    {
     "name": "stdout",
     "output_type": "stream",
     "text": [
      "I'm Fine\n"
     ]
    }
   ],
   "source": [
    "print('I\\'m Fine')  # use escape character \\ to read ' as a part of string"
   ]
  },
  {
   "cell_type": "code",
   "execution_count": 46,
   "id": "5de6d5d5-942b-49fc-a68a-3178fb270b57",
   "metadata": {},
   "outputs": [
    {
     "name": "stdout",
     "output_type": "stream",
     "text": [
      "Click \"OK\"\n"
     ]
    }
   ],
   "source": [
    "print(\"Click \\\"OK\\\"\")"
   ]
  },
  {
   "cell_type": "code",
   "execution_count": 47,
   "id": "58bebd52-28b6-4c2e-a55d-bd4998ce2721",
   "metadata": {},
   "outputs": [
    {
     "data": {
      "text/plain": [
       "'RedCar'"
      ]
     },
     "execution_count": 47,
     "metadata": {},
     "output_type": "execute_result"
    }
   ],
   "source": [
    "'Red' 'Car'"
   ]
  },
  {
   "cell_type": "code",
   "execution_count": 48,
   "id": "038eeece-42e5-40fd-bad0-fe4ae82a80c1",
   "metadata": {},
   "outputs": [
    {
     "data": {
      "text/plain": [
       "'Red Car'"
      ]
     },
     "execution_count": 48,
     "metadata": {},
     "output_type": "execute_result"
    }
   ],
   "source": [
    "'Red ' 'Car'"
   ]
  },
  {
   "cell_type": "code",
   "execution_count": 49,
   "id": "d43da414-f6f6-426b-8871-062935f245a7",
   "metadata": {},
   "outputs": [
    {
     "name": "stdout",
     "output_type": "stream",
     "text": [
      "Red Car\n"
     ]
    }
   ],
   "source": [
    "print('Red ' + 'Car')"
   ]
  },
  {
   "cell_type": "code",
   "execution_count": 50,
   "id": "c02d859c-e979-4b38-8a38-89802a0f92e5",
   "metadata": {},
   "outputs": [
    {
     "name": "stdout",
     "output_type": "stream",
     "text": [
      "Red Car\n"
     ]
    }
   ],
   "source": [
    "print('Red', 'Car')"
   ]
  },
  {
   "cell_type": "code",
   "execution_count": 51,
   "id": "6a21af85-0511-4e9f-b2b5-303eb0a99196",
   "metadata": {},
   "outputs": [
    {
     "name": "stdout",
     "output_type": "stream",
     "text": [
      "3 5\n"
     ]
    }
   ],
   "source": [
    "print(3, 5)"
   ]
  },
  {
   "cell_type": "code",
   "execution_count": 52,
   "id": "56aa4211-146e-416d-873c-805a5e6612dd",
   "metadata": {},
   "outputs": [
    {
     "data": {
      "text/plain": [
       "(3, 5, 1.2, 'car')"
      ]
     },
     "execution_count": 52,
     "metadata": {},
     "output_type": "execute_result"
    }
   ],
   "source": [
    "3, 5, 1.2, 'car'"
   ]
  },
  {
   "cell_type": "markdown",
   "id": "ec1f8cfc-6fbb-466e-b795-c7bb36e69d89",
   "metadata": {},
   "source": [
    "---\n",
    "## Operators"
   ]
  },
  {
   "cell_type": "markdown",
   "id": "37c0afee-1231-425c-bd57-e5ab03871f73",
   "metadata": {},
   "source": [
    "### Arithmetic Operators\n",
    "Used for mathematical calculations."
   ]
  },
  {
   "cell_type": "code",
   "execution_count": 53,
   "id": "0c1f67d0-a036-4115-b923-7e11bdeb0337",
   "metadata": {},
   "outputs": [
    {
     "data": {
      "text/plain": [
       "3"
      ]
     },
     "execution_count": 53,
     "metadata": {},
     "output_type": "execute_result"
    }
   ],
   "source": [
    "1 + 2"
   ]
  },
  {
   "cell_type": "code",
   "execution_count": 54,
   "id": "c3341332-60ed-4960-bead-edc412a420f6",
   "metadata": {},
   "outputs": [
    {
     "data": {
      "text/plain": [
       "-2"
      ]
     },
     "execution_count": 54,
     "metadata": {},
     "output_type": "execute_result"
    }
   ],
   "source": [
    "3 - 5"
   ]
  },
  {
   "cell_type": "code",
   "execution_count": 55,
   "id": "67091d08-cafd-4104-b186-eacb919aa1de",
   "metadata": {},
   "outputs": [],
   "source": [
    "# 1, 2, 3, 5 : Operands\n",
    "# +, - : Arithmetic Operators "
   ]
  },
  {
   "cell_type": "code",
   "execution_count": 56,
   "id": "8e05ecee-301a-427e-9e53-e72d4959d635",
   "metadata": {},
   "outputs": [
    {
     "data": {
      "text/plain": [
       "5.0"
      ]
     },
     "execution_count": 56,
     "metadata": {},
     "output_type": "execute_result"
    }
   ],
   "source": [
    "15 / 3         # division"
   ]
  },
  {
   "cell_type": "code",
   "execution_count": 57,
   "id": "30168e24-5c4b-4aec-94f1-6e073a6617b3",
   "metadata": {},
   "outputs": [
    {
     "data": {
      "text/plain": [
       "5.333333333333333"
      ]
     },
     "execution_count": 57,
     "metadata": {},
     "output_type": "execute_result"
    }
   ],
   "source": [
    "16 / 3"
   ]
  },
  {
   "cell_type": "code",
   "execution_count": 58,
   "id": "c91bc74c-9147-4891-93eb-9f15e967bc33",
   "metadata": {},
   "outputs": [],
   "source": [
    "# From Python 3 onwards... Until Python 2, the result to it would have been only 5 \n",
    "# i.e. the quotient value. In that case, to get the value in float form, you would have\n",
    "# needed to write the dividend in float form i.e. 16.0 instead of 16"
   ]
  },
  {
   "cell_type": "code",
   "execution_count": 59,
   "id": "7fd3b1b6-a6ef-4c06-8e27-ab1996893ed8",
   "metadata": {},
   "outputs": [
    {
     "data": {
      "text/plain": [
       "5"
      ]
     },
     "execution_count": 59,
     "metadata": {},
     "output_type": "execute_result"
    }
   ],
   "source": [
    "round(16 / 3)"
   ]
  },
  {
   "cell_type": "code",
   "execution_count": 60,
   "id": "aabc70fc-3be9-46b2-a281-e4593bfce53f",
   "metadata": {},
   "outputs": [
    {
     "data": {
      "text/plain": [
       "1"
      ]
     },
     "execution_count": 60,
     "metadata": {},
     "output_type": "execute_result"
    }
   ],
   "source": [
    "16 % 3         # modulo operator that calcuates the remainder"
   ]
  },
  {
   "cell_type": "code",
   "execution_count": 61,
   "id": "81bcc9f9-0a2f-4446-b15b-94a26b896c41",
   "metadata": {},
   "outputs": [
    {
     "data": {
      "text/plain": [
       "15"
      ]
     },
     "execution_count": 61,
     "metadata": {},
     "output_type": "execute_result"
    }
   ],
   "source": [
    "x = 5 * 3     # multiplication\n",
    "x"
   ]
  },
  {
   "cell_type": "code",
   "execution_count": 62,
   "id": "2b648ec1-d55c-4cef-9ca1-ad46cb2daf80",
   "metadata": {},
   "outputs": [
    {
     "data": {
      "text/plain": [
       "125"
      ]
     },
     "execution_count": 62,
     "metadata": {},
     "output_type": "execute_result"
    }
   ],
   "source": [
    "5 ** 3        # exponentiation"
   ]
  },
  {
   "cell_type": "markdown",
   "id": "00908bd7-8595-4aa6-aa81-8591b4bd3aa6",
   "metadata": {},
   "source": [
    "### Assignment Operators =\n",
    "Used to assign values to variables."
   ]
  },
  {
   "cell_type": "code",
   "execution_count": 63,
   "id": "abdb2db7-55c5-4d25-8c32-9c2b973da3ad",
   "metadata": {},
   "outputs": [
    {
     "data": {
      "text/plain": [
       "10"
      ]
     },
     "execution_count": 63,
     "metadata": {},
     "output_type": "execute_result"
    }
   ],
   "source": [
    "a = 10\n",
    "a"
   ]
  },
  {
   "cell_type": "code",
   "execution_count": 64,
   "id": "adbf22c4-b6db-42b4-b87e-974f84b80ca1",
   "metadata": {},
   "outputs": [],
   "source": [
    "y = 5 ** 3"
   ]
  },
  {
   "cell_type": "code",
   "execution_count": 65,
   "id": "2e0667ee-ab68-4cb3-bd95-b2e99529c67b",
   "metadata": {},
   "outputs": [
    {
     "data": {
      "text/plain": [
       "125"
      ]
     },
     "execution_count": 65,
     "metadata": {},
     "output_type": "execute_result"
    }
   ],
   "source": [
    "y"
   ]
  },
  {
   "cell_type": "code",
   "execution_count": 66,
   "id": "fbd3d006-0a11-4313-882d-7977b3000bba",
   "metadata": {},
   "outputs": [],
   "source": [
    "# = means 'is assigned to'\n",
    "# == means 'equals'. Hence it is 'Comparison Operator'"
   ]
  },
  {
   "cell_type": "markdown",
   "id": "fdedcc70-f43c-4a70-9c4c-c249c0edbbe3",
   "metadata": {},
   "source": [
    "### Comparison Operators\n",
    "Used to compare two values and return a Boolean result"
   ]
  },
  {
   "cell_type": "code",
   "execution_count": 67,
   "id": "b28cc717-6911-4e9f-8961-3b3f188bd520",
   "metadata": {},
   "outputs": [
    {
     "data": {
      "text/plain": [
       "True"
      ]
     },
     "execution_count": 67,
     "metadata": {},
     "output_type": "execute_result"
    }
   ],
   "source": [
    "10 == 20 / 2      # == : equals"
   ]
  },
  {
   "cell_type": "code",
   "execution_count": 68,
   "id": "b6811825-9033-4a98-8a04-4eaee81ddd2e",
   "metadata": {},
   "outputs": [
    {
     "data": {
      "text/plain": [
       "False"
      ]
     },
     "execution_count": 68,
     "metadata": {},
     "output_type": "execute_result"
    }
   ],
   "source": [
    "10 != 10          # != : not equal to"
   ]
  },
  {
   "cell_type": "code",
   "execution_count": 69,
   "id": "e8c8a2a9-a9c5-49fc-b04e-8077d7760acd",
   "metadata": {},
   "outputs": [
    {
     "data": {
      "text/plain": [
       "True"
      ]
     },
     "execution_count": 69,
     "metadata": {},
     "output_type": "execute_result"
    }
   ],
   "source": [
    "100 > 77          # > : greater than"
   ]
  },
  {
   "cell_type": "code",
   "execution_count": 70,
   "id": "8ba7e330-c2a8-487d-8c9b-93c718f4a7cc",
   "metadata": {},
   "outputs": [
    {
     "data": {
      "text/plain": [
       "False"
      ]
     },
     "execution_count": 70,
     "metadata": {},
     "output_type": "execute_result"
    }
   ],
   "source": [
    "162 < 96          # < : less than"
   ]
  },
  {
   "cell_type": "code",
   "execution_count": 71,
   "id": "7a211c79-95e0-44ec-926c-0e5126e29556",
   "metadata": {},
   "outputs": [
    {
     "data": {
      "text/plain": [
       "True"
      ]
     },
     "execution_count": 71,
     "metadata": {},
     "output_type": "execute_result"
    }
   ],
   "source": [
    "50 >= 32          # >= : greater than or equal to"
   ]
  },
  {
   "cell_type": "code",
   "execution_count": 72,
   "id": "1a541178-8abf-4813-a68a-c1725b5b659b",
   "metadata": {},
   "outputs": [
    {
     "data": {
      "text/plain": [
       "True"
      ]
     },
     "execution_count": 72,
     "metadata": {},
     "output_type": "execute_result"
    }
   ],
   "source": [
    "50 >= 50"
   ]
  },
  {
   "cell_type": "code",
   "execution_count": 73,
   "id": "4b7d821d-96ff-4f0a-bd00-31cb421d2036",
   "metadata": {},
   "outputs": [
    {
     "data": {
      "text/plain": [
       "True"
      ]
     },
     "execution_count": 73,
     "metadata": {},
     "output_type": "execute_result"
    }
   ],
   "source": [
    "25 <= 75          # <= : less than or equal to"
   ]
  },
  {
   "cell_type": "code",
   "execution_count": 74,
   "id": "148eeaf4-e364-47b2-94bd-1d95dcf64c28",
   "metadata": {},
   "outputs": [
    {
     "data": {
      "text/plain": [
       "False"
      ]
     },
     "execution_count": 74,
     "metadata": {},
     "output_type": "execute_result"
    }
   ],
   "source": [
    "25 <= 10"
   ]
  },
  {
   "cell_type": "code",
   "execution_count": 75,
   "id": "47da190c-30a7-418c-977e-ac5ba1872535",
   "metadata": {},
   "outputs": [
    {
     "data": {
      "text/plain": [
       "True"
      ]
     },
     "execution_count": 75,
     "metadata": {},
     "output_type": "execute_result"
    }
   ],
   "source": [
    "15 <= 10 + 5"
   ]
  },
  {
   "cell_type": "code",
   "execution_count": 76,
   "id": "82ed7b4b-af51-49a5-9631-711660be9707",
   "metadata": {},
   "outputs": [],
   "source": [
    "x = 25"
   ]
  },
  {
   "cell_type": "code",
   "execution_count": 77,
   "id": "15451764-8873-4982-9222-874722097042",
   "metadata": {},
   "outputs": [
    {
     "data": {
      "text/plain": [
       "True"
      ]
     },
     "execution_count": 77,
     "metadata": {},
     "output_type": "execute_result"
    }
   ],
   "source": [
    "x == 25"
   ]
  },
  {
   "cell_type": "code",
   "execution_count": 78,
   "id": "fa4f87b8-1f39-4a4e-b5e8-0f848d843da9",
   "metadata": {},
   "outputs": [
    {
     "data": {
      "text/plain": [
       "False"
      ]
     },
     "execution_count": 78,
     "metadata": {},
     "output_type": "execute_result"
    }
   ],
   "source": [
    "x == 32"
   ]
  },
  {
   "cell_type": "markdown",
   "id": "e8b10f2d-0ba2-4860-ad1e-8397edd50889",
   "metadata": {},
   "source": [
    "### Logical Operators\n",
    "Used to combine conditional statements and evaluate Boolean expressions."
   ]
  },
  {
   "cell_type": "code",
   "execution_count": 79,
   "id": "5597a150-325e-4cfc-a20e-597020658ef8",
   "metadata": {},
   "outputs": [],
   "source": [
    "# and : True if both statements / conditions are True     (*)\n",
    "# or  : False if both statements / conditions are False   (+)\n",
    "# not : Opposite"
   ]
  },
  {
   "cell_type": "code",
   "execution_count": 80,
   "id": "4ee2e47f-7c86-4937-b923-05f6e06ed75f",
   "metadata": {},
   "outputs": [
    {
     "data": {
      "text/plain": [
       "True"
      ]
     },
     "execution_count": 80,
     "metadata": {},
     "output_type": "execute_result"
    }
   ],
   "source": [
    "True and True"
   ]
  },
  {
   "cell_type": "code",
   "execution_count": 81,
   "id": "fd8a5dd7-47b6-497e-8ae1-db8d011e0c80",
   "metadata": {},
   "outputs": [
    {
     "data": {
      "text/plain": [
       "False"
      ]
     },
     "execution_count": 81,
     "metadata": {},
     "output_type": "execute_result"
    }
   ],
   "source": [
    "True and False"
   ]
  },
  {
   "cell_type": "code",
   "execution_count": 82,
   "id": "6e9e43fd-cc2f-4748-af0b-67822e225197",
   "metadata": {},
   "outputs": [
    {
     "data": {
      "text/plain": [
       "False"
      ]
     },
     "execution_count": 82,
     "metadata": {},
     "output_type": "execute_result"
    }
   ],
   "source": [
    "False and False"
   ]
  },
  {
   "cell_type": "code",
   "execution_count": 83,
   "id": "5d80126b-edff-4038-a922-24a4882ccebc",
   "metadata": {},
   "outputs": [
    {
     "data": {
      "text/plain": [
       "True"
      ]
     },
     "execution_count": 83,
     "metadata": {},
     "output_type": "execute_result"
    }
   ],
   "source": [
    "True or True"
   ]
  },
  {
   "cell_type": "code",
   "execution_count": 84,
   "id": "6f0b00b6-0aac-44cd-b5a9-99038da79d84",
   "metadata": {},
   "outputs": [
    {
     "data": {
      "text/plain": [
       "True"
      ]
     },
     "execution_count": 84,
     "metadata": {},
     "output_type": "execute_result"
    }
   ],
   "source": [
    "False or True"
   ]
  },
  {
   "cell_type": "code",
   "execution_count": 85,
   "id": "2a35e9be-a3cf-481e-906e-5ee0db705be6",
   "metadata": {},
   "outputs": [
    {
     "data": {
      "text/plain": [
       "False"
      ]
     },
     "execution_count": 85,
     "metadata": {},
     "output_type": "execute_result"
    }
   ],
   "source": [
    "False or False"
   ]
  },
  {
   "cell_type": "code",
   "execution_count": 86,
   "id": "9f41edb6-1bba-4a4f-9f80-892084d0df23",
   "metadata": {},
   "outputs": [
    {
     "data": {
      "text/plain": [
       "False"
      ]
     },
     "execution_count": 86,
     "metadata": {},
     "output_type": "execute_result"
    }
   ],
   "source": [
    "not True"
   ]
  },
  {
   "cell_type": "code",
   "execution_count": 87,
   "id": "01d295ce-f3f1-45b6-a54e-63871be90f1b",
   "metadata": {},
   "outputs": [
    {
     "data": {
      "text/plain": [
       "True"
      ]
     },
     "execution_count": 87,
     "metadata": {},
     "output_type": "execute_result"
    }
   ],
   "source": [
    "not False"
   ]
  },
  {
   "cell_type": "code",
   "execution_count": 88,
   "id": "799ecf69-e535-4225-a938-44a41a4d6cbc",
   "metadata": {},
   "outputs": [],
   "source": [
    "# In case of Multiple logics, sequence of execution is 'not - and - or'"
   ]
  },
  {
   "cell_type": "code",
   "execution_count": 89,
   "id": "15396f4d-f924-483c-a770-3ea256382fe9",
   "metadata": {},
   "outputs": [
    {
     "data": {
      "text/plain": [
       "False"
      ]
     },
     "execution_count": 89,
     "metadata": {},
     "output_type": "execute_result"
    }
   ],
   "source": [
    "False or not True and True"
   ]
  },
  {
   "cell_type": "code",
   "execution_count": 90,
   "id": "eb60e257-ab83-4a52-a7cb-75deb194a5a1",
   "metadata": {},
   "outputs": [
    {
     "data": {
      "text/plain": [
       "True"
      ]
     },
     "execution_count": 90,
     "metadata": {},
     "output_type": "execute_result"
    }
   ],
   "source": [
    "True and not True or True"
   ]
  },
  {
   "cell_type": "code",
   "execution_count": 91,
   "id": "77dd2086-8d97-4520-8ec0-faccc2289881",
   "metadata": {},
   "outputs": [
    {
     "data": {
      "text/plain": [
       "False"
      ]
     },
     "execution_count": 91,
     "metadata": {},
     "output_type": "execute_result"
    }
   ],
   "source": [
    "False and not False"
   ]
  },
  {
   "cell_type": "markdown",
   "id": "dc4e2ba1-88e3-4d3e-a28e-ed8a1950514a",
   "metadata": {},
   "source": [
    "### Identity Operators\n",
    "Used to check if two variables refer to the same object in memory."
   ]
  },
  {
   "cell_type": "code",
   "execution_count": 92,
   "id": "4e09341a-0c13-4485-ab1b-c08a71ffeda4",
   "metadata": {},
   "outputs": [],
   "source": [
    "# is       : equals\n",
    "# is not   : not equals"
   ]
  },
  {
   "cell_type": "code",
   "execution_count": 94,
   "id": "150fc9e0-256c-4d3a-b566-ab02f737b5a8",
   "metadata": {},
   "outputs": [
    {
     "data": {
      "text/plain": [
       "False"
      ]
     },
     "execution_count": 94,
     "metadata": {},
     "output_type": "execute_result"
    }
   ],
   "source": [
    "5 is 6"
   ]
  },
  {
   "cell_type": "code",
   "execution_count": 95,
   "id": "139a7ece-1c9b-4713-bf93-da5b9f73d93c",
   "metadata": {},
   "outputs": [],
   "source": [
    "x = 5"
   ]
  },
  {
   "cell_type": "code",
   "execution_count": 96,
   "id": "bc72529d-bc9a-4ead-af5a-3d4170ddb706",
   "metadata": {},
   "outputs": [
    {
     "data": {
      "text/plain": [
       "True"
      ]
     },
     "execution_count": 96,
     "metadata": {},
     "output_type": "execute_result"
    }
   ],
   "source": [
    "x is 5"
   ]
  },
  {
   "cell_type": "code",
   "execution_count": 97,
   "id": "c45649f0-ca2b-4358-b858-69426f4da182",
   "metadata": {},
   "outputs": [
    {
     "data": {
      "text/plain": [
       "False"
      ]
     },
     "execution_count": 97,
     "metadata": {},
     "output_type": "execute_result"
    }
   ],
   "source": [
    "x is 6"
   ]
  },
  {
   "cell_type": "code",
   "execution_count": 99,
   "id": "55c832fa-0fbc-4933-8da7-9e434493ce16",
   "metadata": {},
   "outputs": [
    {
     "data": {
      "text/plain": [
       "True"
      ]
     },
     "execution_count": 99,
     "metadata": {},
     "output_type": "execute_result"
    }
   ],
   "source": [
    "x is not 6"
   ]
  },
  {
   "cell_type": "code",
   "execution_count": 100,
   "id": "f8fdd6ac-e3f1-42f6-a808-71c1cbed4a81",
   "metadata": {},
   "outputs": [
    {
     "data": {
      "text/plain": [
       "True"
      ]
     },
     "execution_count": 100,
     "metadata": {},
     "output_type": "execute_result"
    }
   ],
   "source": [
    "5 is not 6"
   ]
  },
  {
   "cell_type": "markdown",
   "id": "8502d35b-994e-45c1-ac85-a2817ab580a3",
   "metadata": {},
   "source": [
    "### Membership Operators\n",
    "Used to test for the presence of a value within a sequence"
   ]
  },
  {
   "cell_type": "code",
   "execution_count": 101,
   "id": "36d63811-65bb-423d-b4c9-ccbffd226f69",
   "metadata": {},
   "outputs": [],
   "source": [
    "# in       : equals\n",
    "# not in   : not equals"
   ]
  },
  {
   "cell_type": "code",
   "execution_count": 102,
   "id": "416772d6-d236-492c-8bab-b59a9cdfafb6",
   "metadata": {},
   "outputs": [
    {
     "data": {
      "text/plain": [
       "True"
      ]
     },
     "execution_count": 102,
     "metadata": {},
     "output_type": "execute_result"
    }
   ],
   "source": [
    "my_list = [1, 2, 3, 4, 5]\n",
    "3 in my_list"
   ]
  },
  {
   "cell_type": "code",
   "execution_count": 103,
   "id": "ff27181a-c4e6-441c-aa7d-2bc478df46d8",
   "metadata": {},
   "outputs": [
    {
     "data": {
      "text/plain": [
       "False"
      ]
     },
     "execution_count": 103,
     "metadata": {},
     "output_type": "execute_result"
    }
   ],
   "source": [
    "6 in my_list"
   ]
  },
  {
   "cell_type": "markdown",
   "id": "90d23339-5a9f-4932-a5c7-1cb4a1bb3a2e",
   "metadata": {},
   "source": [
    "### Bitwise Operators\n",
    "Used to perform operations on the binary representations of integers.\n",
    "- `&` (Bitwise AND)\n",
    "- `|` (Bitwise OR)\n",
    "- `^` (Bitwise XOR)\n",
    "- `~` (Bitwise NOT)\n",
    "- `<<` (Left shift)\n",
    "- `>>` (Right shift)"
   ]
  },
  {
   "cell_type": "markdown",
   "id": "e262442f-d1fe-4994-b807-cbdbc8131210",
   "metadata": {},
   "source": [
    "---\n",
    "## More..."
   ]
  },
  {
   "cell_type": "markdown",
   "id": "f95f59b8-bda4-4b3c-a437-a3aee214bfea",
   "metadata": {},
   "source": [
    "### Line Continuation"
   ]
  },
  {
   "cell_type": "code",
   "execution_count": 104,
   "id": "adc1e30d-bb1f-4470-847e-f375da564bae",
   "metadata": {},
   "outputs": [
    {
     "data": {
      "text/plain": [
       "23.0"
      ]
     },
     "execution_count": 104,
     "metadata": {},
     "output_type": "execute_result"
    }
   ],
   "source": [
    "2.0 * 1.5 + 5 ** 2 - 10 / 2"
   ]
  },
  {
   "cell_type": "code",
   "execution_count": 105,
   "id": "b4bed339-12d0-4d01-8abb-77eed4334366",
   "metadata": {},
   "outputs": [
    {
     "data": {
      "text/plain": [
       "23.0"
      ]
     },
     "execution_count": 105,
     "metadata": {},
     "output_type": "execute_result"
    }
   ],
   "source": [
    "# using \\ to created line continuation for the code\n",
    "2.0 * 1.5 + \\\n",
    "5 ** 2 - 10 / 2"
   ]
  },
  {
   "cell_type": "code",
   "execution_count": 106,
   "id": "acda8855-57ad-41bb-87c3-f26a377f1f8a",
   "metadata": {},
   "outputs": [
    {
     "data": {
      "text/plain": [
       "23.0"
      ]
     },
     "execution_count": 106,
     "metadata": {},
     "output_type": "execute_result"
    }
   ],
   "source": [
    "2.0 * 1.5 + 5 **\\\n",
    "2 - 10 / 2"
   ]
  },
  {
   "cell_type": "code",
   "execution_count": 107,
   "id": "9bf1b9df-ccf7-4220-af72-8a1957d97461",
   "metadata": {},
   "outputs": [
    {
     "data": {
      "text/plain": [
       "23.0"
      ]
     },
     "execution_count": 107,
     "metadata": {},
     "output_type": "execute_result"
    }
   ],
   "source": [
    "2.0 * 1.5 + 5 ** 2 - \\\n",
    "10 / 2"
   ]
  },
  {
   "cell_type": "code",
   "execution_count": 108,
   "id": "19f1aa23-dbe5-4c3a-a88e-b756d90417db",
   "metadata": {},
   "outputs": [
    {
     "data": {
      "text/plain": [
       "23.0"
      ]
     },
     "execution_count": 108,
     "metadata": {},
     "output_type": "execute_result"
    }
   ],
   "source": [
    "2.0 * 1.5 \\\n",
    "+ 5 ** 2 - 10 / 2"
   ]
  },
  {
   "cell_type": "markdown",
   "id": "ec6b4b0b-3297-4e2e-9c14-6831248a619a",
   "metadata": {},
   "source": [
    "### Indexing Elements\n",
    "Indexing in Python refers to accessing individual elements within ordered sequences like strings, lists, and tuples using their numerical position."
   ]
  },
  {
   "cell_type": "code",
   "execution_count": 109,
   "id": "b24c76e9-c764-4daa-b3c0-6b5335f12877",
   "metadata": {},
   "outputs": [
    {
     "data": {
      "text/plain": [
       "'Friday'"
      ]
     },
     "execution_count": 109,
     "metadata": {},
     "output_type": "execute_result"
    }
   ],
   "source": [
    "\"Friday\""
   ]
  },
  {
   "cell_type": "code",
   "execution_count": 110,
   "id": "d9a1358e-e05d-4ef1-910b-cc62faa6e855",
   "metadata": {},
   "outputs": [
    {
     "data": {
      "text/plain": [
       "'a'"
      ]
     },
     "execution_count": 110,
     "metadata": {},
     "output_type": "execute_result"
    }
   ],
   "source": [
    "\"Friday\"[4]"
   ]
  },
  {
   "cell_type": "code",
   "execution_count": 111,
   "id": "15a80659-f0f2-47a9-aa3c-51def92a54fc",
   "metadata": {},
   "outputs": [],
   "source": [
    "# element count begins from 0, not 1. Hence entering 4 gives 5th character"
   ]
  },
  {
   "cell_type": "code",
   "execution_count": 112,
   "id": "523cf2c4-8676-4736-a0d1-e82d4e403637",
   "metadata": {},
   "outputs": [
    {
     "data": {
      "text/plain": [
       "'F'"
      ]
     },
     "execution_count": 112,
     "metadata": {},
     "output_type": "execute_result"
    }
   ],
   "source": [
    "\"Friday\"[0]"
   ]
  },
  {
   "cell_type": "code",
   "execution_count": 113,
   "id": "fe2820e1-7035-417e-b2c9-aa141544b5b9",
   "metadata": {},
   "outputs": [
    {
     "data": {
      "text/plain": [
       "'y'"
      ]
     },
     "execution_count": 113,
     "metadata": {},
     "output_type": "execute_result"
    }
   ],
   "source": [
    "\"Friday\"[-1]   # negative indexing... begins from -1, being the last element"
   ]
  },
  {
   "cell_type": "code",
   "execution_count": 114,
   "id": "64319a22-369b-484b-b219-ede4b9998575",
   "metadata": {},
   "outputs": [
    {
     "data": {
      "text/plain": [
       "'i'"
      ]
     },
     "execution_count": 114,
     "metadata": {},
     "output_type": "execute_result"
    }
   ],
   "source": [
    "\"Friday\"[-4]"
   ]
  },
  {
   "cell_type": "markdown",
   "id": "53b42722-5d70-4c27-9558-155196d660a2",
   "metadata": {},
   "source": [
    "---\n",
    "## Conditional Statements"
   ]
  },
  {
   "cell_type": "markdown",
   "id": "c88050bd-0fd4-4c1a-9611-7aecfbc8d806",
   "metadata": {},
   "source": [
    "### IF"
   ]
  },
  {
   "cell_type": "code",
   "execution_count": 115,
   "id": "5c5e1df7-b42d-4420-9061-1c62ad31a801",
   "metadata": {},
   "outputs": [
    {
     "name": "stdout",
     "output_type": "stream",
     "text": [
      "Hooray!\n"
     ]
    }
   ],
   "source": [
    "if 5 == 15 / 3:\n",
    "    print('Hooray!')     #indentation is important"
   ]
  },
  {
   "cell_type": "code",
   "execution_count": 116,
   "id": "45d13090-baac-4fad-91ea-cc5195b92077",
   "metadata": {},
   "outputs": [],
   "source": [
    "if 5 == 18 / 3:\n",
    "    print('Hooray!')     # wont give any output as the statement is False"
   ]
  },
  {
   "cell_type": "code",
   "execution_count": 117,
   "id": "a3f32c46-c492-4acd-8c3a-886a204b82a8",
   "metadata": {},
   "outputs": [
    {
     "name": "stdout",
     "output_type": "stream",
     "text": [
      "Hooray!\n"
     ]
    }
   ],
   "source": [
    "if 5 != 3 * 6:\n",
    "    print('Hooray!')"
   ]
  },
  {
   "cell_type": "markdown",
   "id": "85df00b7-0960-45c0-a0f4-0ffaba945f55",
   "metadata": {},
   "source": [
    "### ELSE"
   ]
  },
  {
   "cell_type": "code",
   "execution_count": 118,
   "id": "b1b87ca0-c9f2-4a7d-94a6-3c7284471c7a",
   "metadata": {},
   "outputs": [
    {
     "name": "stdout",
     "output_type": "stream",
     "text": [
      "case 2\n"
     ]
    }
   ],
   "source": [
    "x = 1\n",
    "\n",
    "if x > 3:\n",
    "    print('case 1')\n",
    "else:\n",
    "    print('case 2')"
   ]
  },
  {
   "cell_type": "code",
   "execution_count": 119,
   "id": "8397a27f-8533-4529-863f-501a19e982df",
   "metadata": {},
   "outputs": [
    {
     "name": "stdout",
     "output_type": "stream",
     "text": [
      "case 1\n"
     ]
    }
   ],
   "source": [
    "x = 1\n",
    "\n",
    "if x < 3:\n",
    "    print('case 1')\n",
    "else:\n",
    "    print('case 2')"
   ]
  },
  {
   "cell_type": "markdown",
   "id": "acd205b9-508d-4cc1-b23d-8f2d9976559a",
   "metadata": {},
   "source": [
    "### ELIF"
   ]
  },
  {
   "cell_type": "code",
   "execution_count": 120,
   "id": "359e16f8-27a0-440a-be6b-bbaf7ec74925",
   "metadata": {},
   "outputs": [
    {
     "name": "stdout",
     "output_type": "stream",
     "text": [
      "Equals\n"
     ]
    }
   ],
   "source": [
    "y = 5\n",
    "\n",
    "if y > 5:\n",
    "    print('Greater')\n",
    "elif y < 5:\n",
    "    print('Lesser')\n",
    "else:\n",
    "    print('Equals')"
   ]
  },
  {
   "cell_type": "code",
   "execution_count": 121,
   "id": "6097fc8f-dc26-4f81-84a8-e9637a5ea521",
   "metadata": {},
   "outputs": [],
   "source": [
    "def compare_to_five(y):\n",
    "    if y > 5:\n",
    "        print('Greater')\n",
    "    elif y < 0:\n",
    "        print('Negative')\n",
    "    elif y < 5:\n",
    "        print('Lesser')\n",
    "    else:\n",
    "        print('Equals')       # understand indentation levels"
   ]
  },
  {
   "cell_type": "code",
   "execution_count": 122,
   "id": "0be87332-873f-45a8-8335-ac118fb5a7be",
   "metadata": {},
   "outputs": [
    {
     "name": "stdout",
     "output_type": "stream",
     "text": [
      "Greater\n"
     ]
    }
   ],
   "source": [
    "compare_to_five(6)"
   ]
  },
  {
   "cell_type": "code",
   "execution_count": 123,
   "id": "d3bddbbd-fbd2-45d2-ae8a-8ffcbfe354b7",
   "metadata": {},
   "outputs": [
    {
     "name": "stdout",
     "output_type": "stream",
     "text": [
      "Lesser\n"
     ]
    }
   ],
   "source": [
    "compare_to_five(2)"
   ]
  },
  {
   "cell_type": "code",
   "execution_count": 124,
   "id": "918e3f5a-cc81-4eb7-90d8-174682521361",
   "metadata": {},
   "outputs": [
    {
     "name": "stdout",
     "output_type": "stream",
     "text": [
      "Negative\n"
     ]
    }
   ],
   "source": [
    "compare_to_five(-10)"
   ]
  },
  {
   "cell_type": "code",
   "execution_count": 125,
   "id": "e43178c1-409a-462c-aa31-f418f6939eeb",
   "metadata": {},
   "outputs": [
    {
     "name": "stdout",
     "output_type": "stream",
     "text": [
      "Negative\n"
     ]
    }
   ],
   "source": [
    "compare_to_five(2-8)"
   ]
  },
  {
   "cell_type": "markdown",
   "id": "4be750ef-cb0f-421b-a91e-af8db89428c2",
   "metadata": {},
   "source": [
    "#### Keep in Mind"
   ]
  },
  {
   "cell_type": "markdown",
   "id": "96faad4e-a6cb-469e-aa9d-4d72e268f0ae",
   "metadata": {},
   "source": [
    "Pythonic syntax is crucial for the execution of your code:\n",
    "- don't forget the colon (:)\n",
    "- and the indentation levels\n",
    "  \n",
    "The order in which you declare your commands matters. Changing the order can differ the results    "
   ]
  },
  {
   "cell_type": "markdown",
   "id": "a7e7d1e0-1ce6-4a6d-8691-3033108152b6",
   "metadata": {},
   "source": [
    "---\n",
    "## Functions"
   ]
  },
  {
   "cell_type": "markdown",
   "id": "8600f305-f01a-4599-aa7b-d2e0a228205e",
   "metadata": {},
   "source": [
    "### Defining a Function"
   ]
  },
  {
   "cell_type": "code",
   "execution_count": 126,
   "id": "a3547ba8-312a-4769-895c-d962153f2d1a",
   "metadata": {},
   "outputs": [],
   "source": [
    "# define a function\n",
    "def simple():\n",
    "    print('My First Function!')"
   ]
  },
  {
   "cell_type": "code",
   "execution_count": 127,
   "id": "80980961-f7be-44b4-a10e-1099d304df17",
   "metadata": {},
   "outputs": [
    {
     "name": "stdout",
     "output_type": "stream",
     "text": [
      "My First Function!\n"
     ]
    }
   ],
   "source": [
    "#call the function\n",
    "simple()"
   ]
  },
  {
   "cell_type": "markdown",
   "id": "4e58cada-9039-4630-8319-a088f29bc051",
   "metadata": {},
   "source": [
    "### Function with Parameter"
   ]
  },
  {
   "cell_type": "code",
   "execution_count": 128,
   "id": "4893ff5f-a0da-4c18-a1bb-3965c2c99835",
   "metadata": {},
   "outputs": [],
   "source": [
    "def plus_ten(a):\n",
    "    print(a + 10)"
   ]
  },
  {
   "cell_type": "code",
   "execution_count": 129,
   "id": "bf082ea1-45a6-4b73-b9de-3a36161dff61",
   "metadata": {},
   "outputs": [
    {
     "name": "stdout",
     "output_type": "stream",
     "text": [
      "15\n"
     ]
    }
   ],
   "source": [
    "plus_ten(5)"
   ]
  },
  {
   "cell_type": "code",
   "execution_count": 130,
   "id": "4dfa3d7d-9287-4cef-b3d6-d791f11b5235",
   "metadata": {},
   "outputs": [
    {
     "name": "stdout",
     "output_type": "stream",
     "text": [
      "88\n"
     ]
    }
   ],
   "source": [
    "plus_ten(78)"
   ]
  },
  {
   "cell_type": "markdown",
   "id": "0f144322-aca0-471e-9619-6ba2cd69b4aa",
   "metadata": {},
   "source": [
    "### use `return`"
   ]
  },
  {
   "cell_type": "code",
   "execution_count": 131,
   "id": "f6f0867b-594f-43aa-8620-3a11f3cc17c2",
   "metadata": {},
   "outputs": [],
   "source": [
    "def plus_ten(a):\n",
    "    result = a + 10\n",
    "    return result"
   ]
  },
  {
   "cell_type": "code",
   "execution_count": 132,
   "id": "f4ae44ba-7c09-4b4a-bd0f-b58a8afb563c",
   "metadata": {},
   "outputs": [
    {
     "data": {
      "text/plain": [
       "31"
      ]
     },
     "execution_count": 132,
     "metadata": {},
     "output_type": "execute_result"
    }
   ],
   "source": [
    "plus_ten(21)"
   ]
  },
  {
   "cell_type": "code",
   "execution_count": 133,
   "id": "b02a5741-aeb3-45f1-b633-d5006fee6f6d",
   "metadata": {},
   "outputs": [],
   "source": [
    "# print - does not affect the calculation of the output.only visualizes it\n",
    "# return - does not visualize the output. specifies what a certain function is supposed to give back"
   ]
  },
  {
   "cell_type": "code",
   "execution_count": 134,
   "id": "7be4dc4d-bb02-4b41-8cea-b7b8bbe1badd",
   "metadata": {},
   "outputs": [],
   "source": [
    "def plus_ten(a):\n",
    "    result = a + 10\n",
    "    return \"Outcome\"\n",
    "    return result"
   ]
  },
  {
   "cell_type": "code",
   "execution_count": 135,
   "id": "f992b4c7-00d8-42e5-a1b0-62bc422cd2e8",
   "metadata": {},
   "outputs": [
    {
     "data": {
      "text/plain": [
       "'Outcome'"
      ]
     },
     "execution_count": 135,
     "metadata": {},
     "output_type": "execute_result"
    }
   ],
   "source": [
    "plus_ten(18)"
   ]
  },
  {
   "cell_type": "code",
   "execution_count": 136,
   "id": "b1c4023f-7610-4fa0-ad1f-387e387cf8be",
   "metadata": {},
   "outputs": [],
   "source": [
    "#instead\n",
    "def plus_ten(a):\n",
    "    result = a + 10\n",
    "    print(\"Outcome\")\n",
    "    return result"
   ]
  },
  {
   "cell_type": "code",
   "execution_count": 137,
   "id": "5c760f86-273b-46c8-a980-459d984bf409",
   "metadata": {},
   "outputs": [
    {
     "name": "stdout",
     "output_type": "stream",
     "text": [
      "Outcome\n"
     ]
    },
    {
     "data": {
      "text/plain": [
       "73"
      ]
     },
     "execution_count": 137,
     "metadata": {},
     "output_type": "execute_result"
    }
   ],
   "source": [
    "plus_ten(63)"
   ]
  },
  {
   "cell_type": "code",
   "execution_count": 138,
   "id": "a70c8746-5df9-4477-83ce-b2e7de676620",
   "metadata": {},
   "outputs": [],
   "source": [
    "# this shows that we can return only a single result out of a function"
   ]
  },
  {
   "cell_type": "markdown",
   "id": "820dc0de-bc54-4a94-9d13-64862658d8b2",
   "metadata": {},
   "source": [
    "---\n",
    "## Built-In Functions in Python"
   ]
  },
  {
   "cell_type": "code",
   "execution_count": 139,
   "id": "8824f0ea-180a-4f4c-89a0-97ba324a83f8",
   "metadata": {},
   "outputs": [
    {
     "data": {
      "text/plain": [
       "(int, str, str)"
      ]
     },
     "execution_count": 139,
     "metadata": {},
     "output_type": "execute_result"
    }
   ],
   "source": [
    "# type() obtains the type of variable you use as an argument\n",
    "type(6), type('Aliya'), type(str(7))"
   ]
  },
  {
   "cell_type": "markdown",
   "id": "9febf2d2-1593-4b1f-ace0-453bf8c2134f",
   "metadata": {},
   "source": [
    "### int(), float(), str()\n",
    "int(), float(), str(), transform their arguments in integer, float and string datatype respectively"
   ]
  },
  {
   "cell_type": "code",
   "execution_count": 140,
   "id": "d4a8b5bd-4dd6-4c28-b2c1-242b65126319",
   "metadata": {},
   "outputs": [
    {
     "data": {
      "text/plain": [
       "5"
      ]
     },
     "execution_count": 140,
     "metadata": {},
     "output_type": "execute_result"
    }
   ],
   "source": [
    "int(5.2)"
   ]
  },
  {
   "cell_type": "code",
   "execution_count": 141,
   "id": "bd9da832-8d6b-482f-983f-aa582bdf3796",
   "metadata": {},
   "outputs": [
    {
     "data": {
      "text/plain": [
       "3.0"
      ]
     },
     "execution_count": 141,
     "metadata": {},
     "output_type": "execute_result"
    }
   ],
   "source": [
    "float(3)"
   ]
  },
  {
   "cell_type": "code",
   "execution_count": 142,
   "id": "d9ea7db6-b0cd-417d-8d57-53bd121753d4",
   "metadata": {},
   "outputs": [
    {
     "data": {
      "text/plain": [
       "'500'"
      ]
     },
     "execution_count": 142,
     "metadata": {},
     "output_type": "execute_result"
    }
   ],
   "source": [
    "str(500)"
   ]
  },
  {
   "cell_type": "markdown",
   "id": "d55c887d-9a5f-48ce-9b1e-51306c2beae1",
   "metadata": {},
   "source": [
    "### max(), min()"
   ]
  },
  {
   "cell_type": "code",
   "execution_count": 143,
   "id": "d21dcaf6-c099-4805-a10a-bb9f69c02337",
   "metadata": {},
   "outputs": [
    {
     "data": {
      "text/plain": [
       "55"
      ]
     },
     "execution_count": 143,
     "metadata": {},
     "output_type": "execute_result"
    }
   ],
   "source": [
    "# max() returns the highest value from a sequence of numbers\n",
    "max(10,55,32)"
   ]
  },
  {
   "cell_type": "code",
   "execution_count": 144,
   "id": "b914a010-268d-42ed-b515-ac320b285284",
   "metadata": {},
   "outputs": [
    {
     "data": {
      "text/plain": [
       "-2"
      ]
     },
     "execution_count": 144,
     "metadata": {},
     "output_type": "execute_result"
    }
   ],
   "source": [
    "# min() returns the lowest value from a sequence of numbers\n",
    "min(-2, 15, 1)"
   ]
  },
  {
   "cell_type": "markdown",
   "id": "8d258d7a-d6b6-43b5-8459-ccf6beb55be3",
   "metadata": {},
   "source": [
    "### abs(), sum()"
   ]
  },
  {
   "cell_type": "code",
   "execution_count": 145,
   "id": "33cba367-be41-4673-a708-02984186e86b",
   "metadata": {},
   "outputs": [
    {
     "data": {
      "text/plain": [
       "(10, 25, 5.37)"
      ]
     },
     "execution_count": 145,
     "metadata": {},
     "output_type": "execute_result"
    }
   ],
   "source": [
    "# abs() allows you to obtain the absolute value of its argument\n",
    "abs(10), abs(-25), abs(-5.37)"
   ]
  },
  {
   "cell_type": "code",
   "execution_count": 146,
   "id": "a3f4d4fd-9ea2-4a55-b9ae-0adc478a2196",
   "metadata": {},
   "outputs": [
    {
     "data": {
      "text/plain": [
       "10"
      ]
     },
     "execution_count": 146,
     "metadata": {},
     "output_type": "execute_result"
    }
   ],
   "source": [
    "# sum calculates the sum of all the elements in a list designated as an argument\n",
    "list_1 = [1, 2, 3, 4]\n",
    "sum(list_1)"
   ]
  },
  {
   "cell_type": "code",
   "execution_count": 147,
   "id": "680b69d4-71c4-4213-ac69-6e789067ef80",
   "metadata": {},
   "outputs": [
    {
     "data": {
      "text/plain": [
       "20"
      ]
     },
     "execution_count": 147,
     "metadata": {},
     "output_type": "execute_result"
    }
   ],
   "source": [
    "sum([5, 6, 9])"
   ]
  },
  {
   "cell_type": "code",
   "execution_count": 148,
   "id": "db259aa5-4194-452a-88e3-6580043d07d6",
   "metadata": {},
   "outputs": [
    {
     "data": {
      "text/plain": [
       "20"
      ]
     },
     "execution_count": 148,
     "metadata": {},
     "output_type": "execute_result"
    }
   ],
   "source": [
    "sum((5, 6, 9))"
   ]
  },
  {
   "cell_type": "markdown",
   "id": "059373eb-e095-4f88-8dc5-f53c07294e5e",
   "metadata": {},
   "source": [
    "### round()"
   ]
  },
  {
   "cell_type": "code",
   "execution_count": 149,
   "id": "d6b129da-602e-4433-8907-e58efa838193",
   "metadata": {},
   "outputs": [],
   "source": [
    "# round(x, y) returns the float of its argument (x), \n",
    "# rounded to a specified number of digits (y) after the decimal point"
   ]
  },
  {
   "cell_type": "code",
   "execution_count": 150,
   "id": "ad8533d9-845b-4fba-98ac-98cc44804b6f",
   "metadata": {},
   "outputs": [
    {
     "data": {
      "text/plain": [
       "(3.56, 9.555, 7.9)"
      ]
     },
     "execution_count": 150,
     "metadata": {},
     "output_type": "execute_result"
    }
   ],
   "source": [
    "round(3.5555, 2), round(9.5553, 3), round(7.869, 1)"
   ]
  },
  {
   "cell_type": "code",
   "execution_count": 151,
   "id": "8fec3da9-7d34-4845-9570-5c665693ebb1",
   "metadata": {},
   "outputs": [
    {
     "data": {
      "text/plain": [
       "(8, 6)"
      ]
     },
     "execution_count": 151,
     "metadata": {},
     "output_type": "execute_result"
    }
   ],
   "source": [
    "round(7.658), round(6.325)"
   ]
  },
  {
   "cell_type": "code",
   "execution_count": 152,
   "id": "419187cb-d2b1-4524-ac6d-d8ddb4d686a1",
   "metadata": {},
   "outputs": [
    {
     "data": {
      "text/plain": [
       "(3, 7)"
      ]
     },
     "execution_count": 152,
     "metadata": {},
     "output_type": "execute_result"
    }
   ],
   "source": [
    "round(2.51), round(7.49)"
   ]
  },
  {
   "cell_type": "markdown",
   "id": "cd57c384-97df-4b99-b8ea-4cc02695a8c2",
   "metadata": {},
   "source": [
    "### pow(), len()"
   ]
  },
  {
   "cell_type": "code",
   "execution_count": 153,
   "id": "7b4170a3-a196-450f-be07-6be1eaedae74",
   "metadata": {},
   "outputs": [
    {
     "data": {
      "text/plain": [
       "(1000, 49, 256)"
      ]
     },
     "execution_count": 153,
     "metadata": {},
     "output_type": "execute_result"
    }
   ],
   "source": [
    "# pow(x, y) returns x to the power y, just like x ** y\n",
    "pow(10, 3), pow(7, 2), pow(2, 8)"
   ]
  },
  {
   "cell_type": "code",
   "execution_count": 154,
   "id": "20becbc6-ae44-47c5-8ef5-86adb3186a8c",
   "metadata": {},
   "outputs": [
    {
     "data": {
      "text/plain": [
       "11"
      ]
     },
     "execution_count": 154,
     "metadata": {},
     "output_type": "execute_result"
    }
   ],
   "source": [
    "# len() returns the number of elements in an object\n",
    "len('Mathematics')"
   ]
  },
  {
   "cell_type": "code",
   "execution_count": 155,
   "id": "d6684b6c-3af9-4407-8611-f5881df03c0b",
   "metadata": {},
   "outputs": [
    {
     "data": {
      "text/plain": [
       "10"
      ]
     },
     "execution_count": 155,
     "metadata": {},
     "output_type": "execute_result"
    }
   ],
   "source": [
    "word = \"a new word\"\n",
    "len(word)          # counts spaces too"
   ]
  },
  {
   "cell_type": "code",
   "execution_count": 156,
   "id": "c17397f9-8042-462a-b7b8-d217d837117c",
   "metadata": {},
   "outputs": [
    {
     "data": {
      "text/plain": [
       "('a new word', 'a', ' ', 'r', 'd')"
      ]
     },
     "execution_count": 156,
     "metadata": {},
     "output_type": "execute_result"
    }
   ],
   "source": [
    "word, word[0], word[1], word[8], word[-1]"
   ]
  },
  {
   "cell_type": "markdown",
   "id": "427d36a2-b2cb-44ac-8ab0-1b63663c1307",
   "metadata": {},
   "source": [
    "---\n",
    "## Sequences"
   ]
  },
  {
   "cell_type": "markdown",
   "id": "e1b00802-8fec-42a7-9ad7-30ee5f6ab90a",
   "metadata": {},
   "source": [
    "### Lists - []\n",
    "List is a built-in, ordered, and mutable collection data type that can store multiple items in a single variable."
   ]
  },
  {
   "cell_type": "code",
   "execution_count": 157,
   "id": "b4de359a-4b93-40bd-99c3-9fd4a4209e97",
   "metadata": {},
   "outputs": [
    {
     "data": {
      "text/plain": [
       "['John', 'Leila', 'Gregory', 'Cate']"
      ]
     },
     "execution_count": 157,
     "metadata": {},
     "output_type": "execute_result"
    }
   ],
   "source": [
    "Participants = ['John', 'Leila', 'Gregory', 'Cate']\n",
    "Participants"
   ]
  },
  {
   "cell_type": "code",
   "execution_count": 158,
   "id": "081d43e1-27a6-4519-a638-87f7ad5d02cc",
   "metadata": {},
   "outputs": [
    {
     "data": {
      "text/plain": [
       "'Leila'"
      ]
     },
     "execution_count": 158,
     "metadata": {},
     "output_type": "execute_result"
    }
   ],
   "source": [
    "Participants[1]"
   ]
  },
  {
   "cell_type": "code",
   "execution_count": 159,
   "id": "e5121661-e67a-4ff8-b8bd-13a7f1dbd792",
   "metadata": {},
   "outputs": [
    {
     "name": "stdout",
     "output_type": "stream",
     "text": [
      "Gregory\n"
     ]
    }
   ],
   "source": [
    "print(Participants[2])"
   ]
  },
  {
   "cell_type": "code",
   "execution_count": 160,
   "id": "bf63ff1a-dac6-4f31-8de5-ee97045590af",
   "metadata": {},
   "outputs": [
    {
     "name": "stdout",
     "output_type": "stream",
     "text": [
      "Cate\n"
     ]
    }
   ],
   "source": [
    "print(Participants[-1])"
   ]
  },
  {
   "cell_type": "code",
   "execution_count": 161,
   "id": "aa127bcb-3c3c-4a8e-8685-1106f98da470",
   "metadata": {},
   "outputs": [
    {
     "data": {
      "text/plain": [
       "['John', 'Leila', 'Gregory', 'Maria']"
      ]
     },
     "execution_count": 161,
     "metadata": {},
     "output_type": "execute_result"
    }
   ],
   "source": [
    "# replacing items\n",
    "Participants[3] = 'Maria'\n",
    "Participants"
   ]
  },
  {
   "cell_type": "code",
   "execution_count": 162,
   "id": "5daafae7-6c1a-4c66-a307-5db1da0edf2e",
   "metadata": {},
   "outputs": [
    {
     "data": {
      "text/plain": [
       "['John', 'Leila', 'Maria']"
      ]
     },
     "execution_count": 162,
     "metadata": {},
     "output_type": "execute_result"
    }
   ],
   "source": [
    "# deleting element del\n",
    "del Participants[2]\n",
    "Participants"
   ]
  },
  {
   "cell_type": "code",
   "execution_count": 163,
   "id": "af0fd266-e78e-41ca-b4af-be15abe66ccf",
   "metadata": {},
   "outputs": [
    {
     "data": {
      "text/plain": [
       "'Maria'"
      ]
     },
     "execution_count": 163,
     "metadata": {},
     "output_type": "execute_result"
    }
   ],
   "source": [
    "Participants[2]"
   ]
  },
  {
   "cell_type": "markdown",
   "id": "ecaec46c-9d38-47fe-8c06-aea4ae4d44cf",
   "metadata": {},
   "source": [
    "#### List Methods"
   ]
  },
  {
   "cell_type": "code",
   "execution_count": 164,
   "id": "1214a931-8d52-4906-9ede-5e21559efbd8",
   "metadata": {},
   "outputs": [],
   "source": [
    "# Built-in FUNCTION takes in the Object as an Argument... for eg. len()\n",
    "# Built-in METHODS are applied to the Object with a '.' dot operator... for eg. list.append()"
   ]
  },
  {
   "cell_type": "code",
   "execution_count": 165,
   "id": "510d95c7-a1fe-4427-9a18-2c02d70f2e40",
   "metadata": {},
   "outputs": [
    {
     "data": {
      "text/plain": [
       "['John', 'Leila', 'Maria', 'Dwayne']"
      ]
     },
     "execution_count": 165,
     "metadata": {},
     "output_type": "execute_result"
    }
   ],
   "source": [
    "# adding a new element using append()\n",
    "Participants.append('Dwayne')\n",
    "Participants"
   ]
  },
  {
   "cell_type": "code",
   "execution_count": 166,
   "id": "e219f0e8-25f4-4a72-8bbf-756e91db697d",
   "metadata": {},
   "outputs": [
    {
     "data": {
      "text/plain": [
       "['John', 'Leila', 'Maria', 'Dwayne', 'George', 'Catherine']"
      ]
     },
     "execution_count": 166,
     "metadata": {},
     "output_type": "execute_result"
    }
   ],
   "source": [
    "Participants.extend(['George', 'Catherine'])\n",
    "Participants"
   ]
  },
  {
   "cell_type": "code",
   "execution_count": 167,
   "id": "548c5a6e-82f7-4a92-8e8b-f61a5c6bf2f1",
   "metadata": {},
   "outputs": [
    {
     "name": "stdout",
     "output_type": "stream",
     "text": [
      "The first participant is John.\n"
     ]
    }
   ],
   "source": [
    "print('The first participant is ' + Participants[0] + '.')"
   ]
  },
  {
   "cell_type": "code",
   "execution_count": 168,
   "id": "17244c74-30bd-426e-92b2-86db54120f7a",
   "metadata": {},
   "outputs": [
    {
     "data": {
      "text/plain": [
       "6"
      ]
     },
     "execution_count": 168,
     "metadata": {},
     "output_type": "execute_result"
    }
   ],
   "source": [
    "# no. of elements in List\n",
    "len(Participants)"
   ]
  },
  {
   "cell_type": "code",
   "execution_count": 169,
   "id": "abc8fb78-1f56-467c-bcbe-1b762abe29df",
   "metadata": {},
   "outputs": [],
   "source": [
    "# more list methods covered in another file dedicated to 'Lists' topic"
   ]
  },
  {
   "cell_type": "markdown",
   "id": "7a7b05f9-723c-4d8f-afda-e372fe7dca18",
   "metadata": {},
   "source": [
    "#### List Slicing"
   ]
  },
  {
   "cell_type": "code",
   "execution_count": 170,
   "id": "cddf0978-19cf-4e4d-b223-f78bbdf4a898",
   "metadata": {},
   "outputs": [
    {
     "data": {
      "text/plain": [
       "['John', 'Leila', 'Maria', 'Dwayne', 'George', 'Catherine']"
      ]
     },
     "execution_count": 170,
     "metadata": {},
     "output_type": "execute_result"
    }
   ],
   "source": [
    "# List slicing\n",
    "Participants"
   ]
  },
  {
   "cell_type": "code",
   "execution_count": 171,
   "id": "25fa25e4-4b11-4be7-807f-e24b6dd96452",
   "metadata": {},
   "outputs": [
    {
     "data": {
      "text/plain": [
       "['Leila', 'Maria']"
      ]
     },
     "execution_count": 171,
     "metadata": {},
     "output_type": "execute_result"
    }
   ],
   "source": [
    "Participants[1:3]"
   ]
  },
  {
   "cell_type": "code",
   "execution_count": 172,
   "id": "13c9f8d7-cb9e-4f51-9310-76087e471e21",
   "metadata": {},
   "outputs": [
    {
     "data": {
      "text/plain": [
       "['George', 'Catherine']"
      ]
     },
     "execution_count": 172,
     "metadata": {},
     "output_type": "execute_result"
    }
   ],
   "source": [
    "Participants[4:]"
   ]
  },
  {
   "cell_type": "code",
   "execution_count": 173,
   "id": "19daf761-d561-4121-af4e-4d4af367ee2e",
   "metadata": {},
   "outputs": [
    {
     "data": {
      "text/plain": [
       "['George', 'Catherine']"
      ]
     },
     "execution_count": 173,
     "metadata": {},
     "output_type": "execute_result"
    }
   ],
   "source": [
    "Participants[-2:]"
   ]
  },
  {
   "cell_type": "code",
   "execution_count": 174,
   "id": "a7687a76-5535-4a85-bfb6-e21efc1fdf20",
   "metadata": {},
   "outputs": [
    {
     "data": {
      "text/plain": [
       "2"
      ]
     },
     "execution_count": 174,
     "metadata": {},
     "output_type": "execute_result"
    }
   ],
   "source": [
    "# position of element\n",
    "Participants.index('Maria')"
   ]
  },
  {
   "cell_type": "code",
   "execution_count": 175,
   "id": "eccb2956-fffb-44e6-8eb2-c18058830d9e",
   "metadata": {},
   "outputs": [
    {
     "data": {
      "text/plain": [
       "['Joshua', 'Brittany']"
      ]
     },
     "execution_count": 175,
     "metadata": {},
     "output_type": "execute_result"
    }
   ],
   "source": [
    "# creating a list of list\n",
    "Newcomers = ['Joshua', 'Brittany']\n",
    "Newcomers"
   ]
  },
  {
   "cell_type": "code",
   "execution_count": 176,
   "id": "f9fab436-1ecd-4320-b5ac-bdd4d87d9185",
   "metadata": {},
   "outputs": [
    {
     "data": {
      "text/plain": [
       "[['John', 'Leila', 'Maria', 'Dwayne', 'George', 'Catherine'],\n",
       " ['Joshua', 'Brittany']]"
      ]
     },
     "execution_count": 176,
     "metadata": {},
     "output_type": "execute_result"
    }
   ],
   "source": [
    "Bigger_list = [Participants, Newcomers]\n",
    "Bigger_list"
   ]
  },
  {
   "cell_type": "code",
   "execution_count": 177,
   "id": "96957aa0-067c-436d-8e89-ad47175539d0",
   "metadata": {},
   "outputs": [
    {
     "data": {
      "text/plain": [
       "['Catherine', 'Dwayne', 'George', 'John', 'Leila', 'Maria']"
      ]
     },
     "execution_count": 177,
     "metadata": {},
     "output_type": "execute_result"
    }
   ],
   "source": [
    "# sorting the list\n",
    "Participants.sort()\n",
    "Participants"
   ]
  },
  {
   "cell_type": "code",
   "execution_count": 178,
   "id": "cddfd14c-0929-4642-9203-91433c475582",
   "metadata": {},
   "outputs": [
    {
     "data": {
      "text/plain": [
       "['Maria', 'Leila', 'John', 'George', 'Dwayne', 'Catherine']"
      ]
     },
     "execution_count": 178,
     "metadata": {},
     "output_type": "execute_result"
    }
   ],
   "source": [
    "Participants.sort(reverse=True)\n",
    "Participants"
   ]
  },
  {
   "cell_type": "markdown",
   "id": "b4345094-56c1-46f1-9545-195c68a59d1a",
   "metadata": {},
   "source": [
    "### Create lists with `range()` function\n",
    "range(start, stop, step)"
   ]
  },
  {
   "cell_type": "code",
   "execution_count": 179,
   "id": "74fc0130-e887-4cfa-9399-ccb976010524",
   "metadata": {},
   "outputs": [
    {
     "data": {
      "text/plain": [
       "range(0, 10)"
      ]
     },
     "execution_count": 179,
     "metadata": {},
     "output_type": "execute_result"
    }
   ],
   "source": [
    "range(10)"
   ]
  },
  {
   "cell_type": "code",
   "execution_count": 180,
   "id": "21c270cd-902b-4691-bc07-34356d98ea5c",
   "metadata": {},
   "outputs": [
    {
     "data": {
      "text/plain": [
       "[0, 1, 2, 3, 4, 5, 6, 7, 8, 9]"
      ]
     },
     "execution_count": 180,
     "metadata": {},
     "output_type": "execute_result"
    }
   ],
   "source": [
    "list(range(10))"
   ]
  },
  {
   "cell_type": "code",
   "execution_count": 181,
   "id": "43da41a8-8455-4288-9e0d-db241007799c",
   "metadata": {},
   "outputs": [
    {
     "data": {
      "text/plain": [
       "[3, 4, 5, 6]"
      ]
     },
     "execution_count": 181,
     "metadata": {},
     "output_type": "execute_result"
    }
   ],
   "source": [
    "list(range(3,7))"
   ]
  },
  {
   "cell_type": "code",
   "execution_count": 182,
   "id": "665c1a2c-c137-4dda-8792-6d1e8d96925e",
   "metadata": {},
   "outputs": [
    {
     "data": {
      "text/plain": [
       "[1, 3, 5, 7, 9, 11, 13, 15, 17, 19]"
      ]
     },
     "execution_count": 182,
     "metadata": {},
     "output_type": "execute_result"
    }
   ],
   "source": [
    "list(range(1, 20, 2))"
   ]
  },
  {
   "cell_type": "markdown",
   "id": "446531a1-eee3-420c-9b5c-f2ed6df6fc69",
   "metadata": {},
   "source": [
    "### Tuples - ()\n",
    "A tuple is an ordered, immutable collection of items."
   ]
  },
  {
   "cell_type": "code",
   "execution_count": 183,
   "id": "9f8f403f-9ad0-4ada-9875-755d0fb54a5f",
   "metadata": {},
   "outputs": [
    {
     "data": {
      "text/plain": [
       "(40, 41, 42)"
      ]
     },
     "execution_count": 183,
     "metadata": {},
     "output_type": "execute_result"
    }
   ],
   "source": [
    "x = (40, 41, 42)\n",
    "x"
   ]
  },
  {
   "cell_type": "code",
   "execution_count": 184,
   "id": "11e6f8d3-da19-45c4-97f8-d72b3d4b1590",
   "metadata": {},
   "outputs": [
    {
     "data": {
      "text/plain": [
       "(50, 51, 52)"
      ]
     },
     "execution_count": 184,
     "metadata": {},
     "output_type": "execute_result"
    }
   ],
   "source": [
    "y = 50, 51, 52\n",
    "y"
   ]
  },
  {
   "cell_type": "code",
   "execution_count": 185,
   "id": "ce7a04b3-ab35-487a-9cff-ab558b97ef9f",
   "metadata": {},
   "outputs": [
    {
     "data": {
      "text/plain": [
       "6"
      ]
     },
     "execution_count": 185,
     "metadata": {},
     "output_type": "execute_result"
    }
   ],
   "source": [
    "a, b, c = 1, 4, 6\n",
    "c"
   ]
  },
  {
   "cell_type": "code",
   "execution_count": 186,
   "id": "449ffccc-8484-49ee-8ad1-4e3a65c6b521",
   "metadata": {},
   "outputs": [
    {
     "data": {
      "text/plain": [
       "[(40, 41, 42), (50, 51, 52)]"
      ]
     },
     "execution_count": 186,
     "metadata": {},
     "output_type": "execute_result"
    }
   ],
   "source": [
    "list_1 = [x, y]\n",
    "list_1"
   ]
  },
  {
   "cell_type": "code",
   "execution_count": 187,
   "id": "f0e638c7-3814-4cb6-b8e7-96381541f2e8",
   "metadata": {},
   "outputs": [
    {
     "name": "stdout",
     "output_type": "stream",
     "text": [
      "30\n",
      "17\n"
     ]
    }
   ],
   "source": [
    "(age, years_of_experience) = \"30,17\".split(',')\n",
    "print(age)\n",
    "print(years_of_experience)"
   ]
  },
  {
   "cell_type": "code",
   "execution_count": 188,
   "id": "f937afd2-6a46-4f7c-a064-d4f80ac12177",
   "metadata": {},
   "outputs": [
    {
     "name": "stdout",
     "output_type": "stream",
     "text": [
      "Area and Perimeter:\n"
     ]
    },
    {
     "data": {
      "text/plain": [
       "(9, 12)"
      ]
     },
     "execution_count": 188,
     "metadata": {},
     "output_type": "execute_result"
    }
   ],
   "source": [
    "# Functions can provide tuples as return values\n",
    "def square_info(x):\n",
    "    A = x ** 2\n",
    "    P = 4 * x\n",
    "    print(\"Area and Perimeter:\")\n",
    "    return A, P\n",
    "\n",
    "square_info(3)"
   ]
  },
  {
   "cell_type": "markdown",
   "id": "297bde83-6ebc-4d81-a400-fa90453e103a",
   "metadata": {},
   "source": [
    "###  Dictionaries - {:}\n",
    "Dictionaries represent way of storing data in a key-value pair."
   ]
  },
  {
   "cell_type": "code",
   "execution_count": 189,
   "id": "38412dcf-1ea3-499c-b1dd-38b4fe471c22",
   "metadata": {},
   "outputs": [
    {
     "data": {
      "text/plain": [
       "{'k1': 'cat', 'k2': 'dog', 'k3': 'mouse', 'k4': 'fish'}"
      ]
     },
     "execution_count": 189,
     "metadata": {},
     "output_type": "execute_result"
    }
   ],
   "source": [
    "dict = {'k1': \"cat\", 'k2': \"dog\", 'k3': \"mouse\", 'k4': \"fish\"}\n",
    "dict"
   ]
  },
  {
   "cell_type": "code",
   "execution_count": 190,
   "id": "7e457e5e-24e5-420f-8fb5-4c8bb3f92eee",
   "metadata": {},
   "outputs": [
    {
     "data": {
      "text/plain": [
       "'cat'"
      ]
     },
     "execution_count": 190,
     "metadata": {},
     "output_type": "execute_result"
    }
   ],
   "source": [
    "dict['k1']"
   ]
  },
  {
   "cell_type": "code",
   "execution_count": 191,
   "id": "0df0b2e7-c2d2-4c15-a38b-696856a0521f",
   "metadata": {},
   "outputs": [
    {
     "data": {
      "text/plain": [
       "'mouse'"
      ]
     },
     "execution_count": 191,
     "metadata": {},
     "output_type": "execute_result"
    }
   ],
   "source": [
    "dict[\"k3\"]"
   ]
  },
  {
   "cell_type": "code",
   "execution_count": 192,
   "id": "26b7344b-c4b9-4ab1-8eec-395dde2c02b9",
   "metadata": {},
   "outputs": [
    {
     "data": {
      "text/plain": [
       "{'k1': 'cat', 'k2': 'dog', 'k3': 'mouse', 'k4': 'fish', 'k5': 'parrot'}"
      ]
     },
     "execution_count": 192,
     "metadata": {},
     "output_type": "execute_result"
    }
   ],
   "source": [
    "# add new value\n",
    "dict['k5'] = 'parrot'\n",
    "dict"
   ]
  },
  {
   "cell_type": "code",
   "execution_count": 193,
   "id": "ad2747e2-f4fc-4752-a012-cf8d4abdb80d",
   "metadata": {},
   "outputs": [
    {
     "data": {
      "text/plain": [
       "5"
      ]
     },
     "execution_count": 193,
     "metadata": {},
     "output_type": "execute_result"
    }
   ],
   "source": [
    "len(dict)"
   ]
  },
  {
   "cell_type": "code",
   "execution_count": 194,
   "id": "e15c692a-c515-4d63-a758-b78f6de095b6",
   "metadata": {},
   "outputs": [
    {
     "data": {
      "text/plain": [
       "{'k1': 'cat', 'k2': 'squirrel', 'k3': 'mouse', 'k4': 'fish', 'k5': 'parrot'}"
      ]
     },
     "execution_count": 194,
     "metadata": {},
     "output_type": "execute_result"
    }
   ],
   "source": [
    "dict['k2'] = 'squirrel'\n",
    "dict"
   ]
  },
  {
   "cell_type": "code",
   "execution_count": 195,
   "id": "5f4c8fa6-a6f3-442b-904c-04a24d13064b",
   "metadata": {},
   "outputs": [],
   "source": [
    "dep_workers = {'dep_1': 'Peter', 'dep_2': ['Jennifer', 'Michael', 'Tommy']}"
   ]
  },
  {
   "cell_type": "code",
   "execution_count": 196,
   "id": "b5f35d02-9718-40b6-9022-9c4809952af5",
   "metadata": {},
   "outputs": [
    {
     "data": {
      "text/plain": [
       "['Jennifer', 'Michael', 'Tommy']"
      ]
     },
     "execution_count": 196,
     "metadata": {},
     "output_type": "execute_result"
    }
   ],
   "source": [
    "dep_workers['dep_2']"
   ]
  },
  {
   "cell_type": "code",
   "execution_count": 197,
   "id": "86dfd71c-c1fb-4e25-970e-285f2fec4b05",
   "metadata": {},
   "outputs": [
    {
     "data": {
      "text/plain": [
       "{'memb_1': 'Alex', 'memb_2': 'Warren', 'memb_3': 'Jessica', 'memb_4': 'Lisa'}"
      ]
     },
     "execution_count": 197,
     "metadata": {},
     "output_type": "execute_result"
    }
   ],
   "source": [
    "Team = {}\n",
    "Team['memb_1'] = 'Alex'\n",
    "Team['memb_2'] = 'Warren'\n",
    "Team['memb_3'] = 'Jessica'\n",
    "Team['memb_4'] = 'Lisa'\n",
    "\n",
    "Team"
   ]
  },
  {
   "cell_type": "code",
   "execution_count": 198,
   "id": "5706296c-4ea1-44a0-a186-eb830a1b2df4",
   "metadata": {},
   "outputs": [
    {
     "name": "stdout",
     "output_type": "stream",
     "text": [
      "Jessica\n"
     ]
    }
   ],
   "source": [
    "print(Team['memb_3'])"
   ]
  },
  {
   "cell_type": "code",
   "execution_count": 199,
   "id": "96ddafcb-4c63-474d-90cd-c4ef254cf551",
   "metadata": {},
   "outputs": [
    {
     "name": "stdout",
     "output_type": "stream",
     "text": [
      "Lisa\n"
     ]
    }
   ],
   "source": [
    "print(Team.get('memb_4'))"
   ]
  },
  {
   "cell_type": "code",
   "execution_count": 200,
   "id": "e818d860-b988-4e35-b72b-af7489995eff",
   "metadata": {},
   "outputs": [
    {
     "name": "stdout",
     "output_type": "stream",
     "text": [
      "None\n"
     ]
    }
   ],
   "source": [
    "print(Team.get('memb_5'))"
   ]
  },
  {
   "cell_type": "markdown",
   "id": "c0069917-fcc7-4592-9b52-d1f4725d5948",
   "metadata": {},
   "source": [
    "---\n",
    "## Iteration\n",
    "Iteration is the ability to execute a certain code repeatedly"
   ]
  },
  {
   "cell_type": "markdown",
   "id": "f4319083-e9fb-40e0-9c73-075a680bfb3b",
   "metadata": {},
   "source": [
    "### For Loops"
   ]
  },
  {
   "cell_type": "code",
   "execution_count": 201,
   "id": "e44e097f-6e9e-4b4e-bbd1-6b3805334b4b",
   "metadata": {},
   "outputs": [],
   "source": [
    "even = [0,2,4,6,8,10]"
   ]
  },
  {
   "cell_type": "code",
   "execution_count": 202,
   "id": "4233fae7-17c9-4f9a-97d4-afaae21d3da7",
   "metadata": {},
   "outputs": [
    {
     "name": "stdout",
     "output_type": "stream",
     "text": [
      "0\n",
      "2\n",
      "4\n",
      "6\n",
      "8\n",
      "10\n"
     ]
    }
   ],
   "source": [
    "for n in even:        # for every element n in the list even\n",
    "    print(n)          # perform the given task"
   ]
  },
  {
   "cell_type": "code",
   "execution_count": 203,
   "id": "ca5b25f5-66b6-499e-ab84-74dd4b2f0eae",
   "metadata": {},
   "outputs": [
    {
     "name": "stdout",
     "output_type": "stream",
     "text": [
      "0 2 4 6 8 10 "
     ]
    }
   ],
   "source": [
    "for n in even:\n",
    "    print(n, end = ' ')"
   ]
  },
  {
   "cell_type": "markdown",
   "id": "df19fd03-c995-4497-83b8-1c04aeee6384",
   "metadata": {},
   "source": [
    "### While Loops and Incrementing"
   ]
  },
  {
   "cell_type": "code",
   "execution_count": 204,
   "id": "71489bfa-3ba6-4087-97f5-10db48933c84",
   "metadata": {},
   "outputs": [
    {
     "name": "stdout",
     "output_type": "stream",
     "text": [
      "0 2 4 6 8 10 12 14 16 18 20 "
     ]
    }
   ],
   "source": [
    "x = 0\n",
    "while x <= 20:\n",
    "    print(x, end=' ')\n",
    "    x = x + 2"
   ]
  },
  {
   "cell_type": "code",
   "execution_count": 205,
   "id": "9c3c6170-f99b-4801-89e6-7e5da8cd50f1",
   "metadata": {},
   "outputs": [
    {
     "name": "stdout",
     "output_type": "stream",
     "text": [
      "0 2 4 6 8 10 12 14 16 18 20 "
     ]
    }
   ],
   "source": [
    "x = 0\n",
    "while x <= 20:\n",
    "    print(x, end=' ')\n",
    "    x += 2"
   ]
  },
  {
   "cell_type": "markdown",
   "id": "59c2c7f4-6f77-44cf-aef1-fec56cc19cd8",
   "metadata": {},
   "source": [
    "---"
   ]
  },
  {
   "cell_type": "markdown",
   "id": "18d39629-b596-4252-b053-d1e8d42d34ea",
   "metadata": {},
   "source": [
    "## Conditional Statements and Functions"
   ]
  },
  {
   "cell_type": "code",
   "execution_count": 206,
   "id": "2fc4507c-37a2-4656-8d90-c6c9312f54a6",
   "metadata": {},
   "outputs": [],
   "source": [
    "def add_10(m):\n",
    "    if m >= 100:\n",
    "        m = m + 10\n",
    "        return m\n",
    "    else:\n",
    "        return 'Save More!'"
   ]
  },
  {
   "cell_type": "code",
   "execution_count": 207,
   "id": "9419ac98-4c10-403b-ad70-9ac89661dff0",
   "metadata": {},
   "outputs": [
    {
     "data": {
      "text/plain": [
       "131"
      ]
     },
     "execution_count": 207,
     "metadata": {},
     "output_type": "execute_result"
    }
   ],
   "source": [
    "add_10(121)"
   ]
  },
  {
   "cell_type": "code",
   "execution_count": 208,
   "id": "17ef3a10-5dab-4cd1-b021-b0b931eb0584",
   "metadata": {},
   "outputs": [
    {
     "data": {
      "text/plain": [
       "'Save More!'"
      ]
     },
     "execution_count": 208,
     "metadata": {},
     "output_type": "execute_result"
    }
   ],
   "source": [
    "add_10(78) "
   ]
  },
  {
   "cell_type": "markdown",
   "id": "9ddcaaca-c578-4840-9727-875057910c78",
   "metadata": {},
   "source": [
    "## Conditional Statements and Loops"
   ]
  },
  {
   "cell_type": "code",
   "execution_count": 209,
   "id": "6ccd669f-5e00-4e54-8124-c5398bb59fdb",
   "metadata": {},
   "outputs": [
    {
     "name": "stdout",
     "output_type": "stream",
     "text": [
      "1 2 4 8 16 32 64 128 256 512 "
     ]
    }
   ],
   "source": [
    "for n in range(10):\n",
    "    print(2 ** n, end = ' ')"
   ]
  },
  {
   "cell_type": "code",
   "execution_count": 210,
   "id": "c2c27aee-c621-4353-a34e-91f20d432b30",
   "metadata": {},
   "outputs": [
    {
     "name": "stdout",
     "output_type": "stream",
     "text": [
      "0 Odd 2 Odd 4 Odd 6 Odd 8 Odd 10 Odd 12 Odd 14 Odd 16 Odd 18 Odd "
     ]
    }
   ],
   "source": [
    "for x in range(20):\n",
    "    if x % 2 == 0:\n",
    "        print(x, end = ' ')\n",
    "    else:\n",
    "        print(\"Odd\", end = ' ')"
   ]
  },
  {
   "cell_type": "markdown",
   "id": "213ef9c0-b7fb-4769-8e08-c20ea3a20217",
   "metadata": {},
   "source": [
    "## Conditional Statements, Functions, and Loops"
   ]
  },
  {
   "cell_type": "code",
   "execution_count": 211,
   "id": "123b1def-76be-4047-a0f1-809ea2de7cc9",
   "metadata": {},
   "outputs": [],
   "source": [
    "def count(numbers):\n",
    "    total = 0\n",
    "    for x in numbers:\n",
    "        if x < 20:\n",
    "            total += 1\n",
    "    return total"
   ]
  },
  {
   "cell_type": "code",
   "execution_count": 212,
   "id": "a1e70380-4a94-4558-873d-a62cb212865e",
   "metadata": {},
   "outputs": [],
   "source": [
    "list1 = [1,3,5,15,23,42,56,98,17]"
   ]
  },
  {
   "cell_type": "code",
   "execution_count": 213,
   "id": "9c856eff-046f-403f-9837-ee7d56092003",
   "metadata": {},
   "outputs": [
    {
     "data": {
      "text/plain": [
       "5"
      ]
     },
     "execution_count": 213,
     "metadata": {},
     "output_type": "execute_result"
    }
   ],
   "source": [
    "count(list1)"
   ]
  },
  {
   "cell_type": "markdown",
   "id": "edd47d7e-2e95-453e-8d47-48f678763a63",
   "metadata": {},
   "source": [
    "## Iterating over Dictionaries"
   ]
  },
  {
   "cell_type": "code",
   "execution_count": 214,
   "id": "288b94ce-2b59-4972-acd8-1435846185df",
   "metadata": {},
   "outputs": [],
   "source": [
    "prices = {\n",
    "    \"box_of_pasta\" : 4,\n",
    "    \"lasagna\" : 5,\n",
    "    \"hamburger\" : 2\n",
    "}\n",
    "\n",
    "quantity = {\n",
    "    \"box_of_pasta\" : 6,\n",
    "    \"lasagna\" : 10,\n",
    "    \"hamburger\" : 0\n",
    "}"
   ]
  },
  {
   "cell_type": "code",
   "execution_count": 215,
   "id": "54cb1ae2-89fa-4477-ae5c-4e6585e6d31e",
   "metadata": {},
   "outputs": [
    {
     "name": "stdout",
     "output_type": "stream",
     "text": [
      "74\n"
     ]
    }
   ],
   "source": [
    "money_spent = 0\n",
    "\n",
    "for i in prices:\n",
    "    money_spent = money_spent + (prices[i] * quantity[i])\n",
    "\n",
    "print(money_spent)"
   ]
  },
  {
   "cell_type": "markdown",
   "id": "da867a74-bf02-4dcd-b61c-039b07813a98",
   "metadata": {},
   "source": [
    "----------- End of File ---------------"
   ]
  }
 ],
 "metadata": {
  "kernelspec": {
   "display_name": "Python 3 (ipykernel)",
   "language": "python",
   "name": "python3"
  },
  "language_info": {
   "codemirror_mode": {
    "name": "ipython",
    "version": 3
   },
   "file_extension": ".py",
   "mimetype": "text/x-python",
   "name": "python",
   "nbconvert_exporter": "python",
   "pygments_lexer": "ipython3",
   "version": "3.13.6"
  }
 },
 "nbformat": 4,
 "nbformat_minor": 5
}
